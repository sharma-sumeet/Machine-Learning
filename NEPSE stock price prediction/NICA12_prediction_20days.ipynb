{
  "nbformat": 4,
  "nbformat_minor": 0,
  "metadata": {
    "accelerator": "GPU",
    "colab": {
      "name": "NICA12_prediction_20days.ipynb",
      "provenance": [],
      "collapsed_sections": []
    },
    "kernelspec": {
      "display_name": "Python 3",
      "language": "python",
      "name": "python3"
    },
    "language_info": {
      "codemirror_mode": {
        "name": "ipython",
        "version": 3
      },
      "file_extension": ".py",
      "mimetype": "text/x-python",
      "name": "python",
      "nbconvert_exporter": "python",
      "pygments_lexer": "ipython3",
      "version": "3.7.3"
    }
  },
  "cells": [
    {
      "cell_type": "code",
      "metadata": {
        "id": "eW9uIzpb6wgl"
      },
      "source": [
        "import numpy as np\n",
        "import pandas as pd\n",
        "from numpy import array\n",
        "\n",
        "from keras.models import Sequential\n",
        "from keras.layers import Dense, LSTM, Dropout, GRU\n",
        "from sklearn.preprocessing import MinMaxScaler\n",
        "from tensorflow.keras.optimizers import Adam\n",
        "import matplotlib.pyplot as plt\n",
        "%matplotlib inline\n",
        "from keras.layers import RepeatVector\n",
        "from keras.layers import TimeDistributed\n"
      ],
      "execution_count": 3,
      "outputs": []
    },
    {
      "cell_type": "code",
      "metadata": {
        "colab": {
          "base_uri": "https://localhost:8080/"
        },
        "id": "6DTfUKM_60wM",
        "outputId": "f6a518ce-1474-4121-ce29-eea6e8208b61"
      },
      "source": [
        "from google.colab import drive\n",
        "drive.mount('/content/drive',force_remount=True)"
      ],
      "execution_count": 4,
      "outputs": [
        {
          "output_type": "stream",
          "name": "stdout",
          "text": [
            "Mounted at /content/drive\n"
          ]
        }
      ]
    },
    {
      "cell_type": "code",
      "metadata": {
        "id": "BrrJFEjP66QY"
      },
      "source": [
        "import sys\n",
        "sys.path.append('/content/drive/MyDrive')"
      ],
      "execution_count": 5,
      "outputs": []
    },
    {
      "cell_type": "code",
      "metadata": {
        "id": "d_5LDSEV6wgv"
      },
      "source": [
        "def buildLaggedFeatures(s,lag=2,dropna=True):\n",
        "    #Builds a new DataFrame to facilitate regressing over all possible lagged features'''\n",
        "    if type(s) is pd.DataFrame:\n",
        "        new_dict={}\n",
        "        for l in range(lag,0,-1):\n",
        "            #new_dict[col_name]=s[col_name]\n",
        "            # create lagged Series\n",
        "            for col_name in s:\n",
        "                new_dict['%s_lag%d' %(col_name,l)]=s[col_name].shift(l)\n",
        "        for col_name in s:\n",
        "            new_dict[col_name]=s[col_name]\n",
        "        res=pd.DataFrame(new_dict,index=s.index)\n",
        "        #print(res.head())\n",
        "\n",
        "    elif type(s) is pd.Series:\n",
        "        the_range=range(lag+1)\n",
        "        res=pd.concat([s.shift(i) for i in the_range],axis=1)\n",
        "        res.columns=['lag_%d' %i for i in the_range]\n",
        "    else:\n",
        "        print('Only works for DataFrame or Series')\n",
        "        return None\n",
        "    if dropna:\n",
        "        return res.dropna()\n",
        "    else:\n",
        "        return res "
      ],
      "execution_count": 6,
      "outputs": []
    },
    {
      "cell_type": "code",
      "metadata": {
        "id": "6cMbepYc6wgw"
      },
      "source": [
        "def create_data(scaler2,data,lag):\n",
        "    #o_data = read_csv('NLIC_stock.csv', header=0)\n",
        "    #data['Date'] = pd.to_datetime(o_data['Date'])\n",
        "    #mask = (data['Date'] > '2011-11-11') & (data['Date'] <= '2018-12-30')\n",
        "    #t_data=data.loc[mask]\n",
        "    t_data= data.drop(columns=['Symbol'])\n",
        "    t_data.set_index(['Date'], inplace=True)\n",
        "    t_data=t_data.drop(columns=['Open','High','Vol','Low'])\n",
        "    t_data['Close'] = scaler2.transform((t_data['Close'].to_numpy()).reshape(-1,1))\n",
        "    #print(t_data.head())\n",
        "    res=buildLaggedFeatures(t_data,lag,dropna=True)\n",
        "    #print(res.head())\n",
        "    res=res.drop(columns=['Close'])\n",
        "    \n",
        "    return res  "
      ],
      "execution_count": 7,
      "outputs": []
    },
    {
      "cell_type": "code",
      "metadata": {
        "id": "HmZ7SlTc6wgw"
      },
      "source": [
        "def create_yvalues(scaler2,df,lead):\n",
        "    dataY = []\n",
        "    df['Close'] = scaler2.transform((df['Close'].to_numpy()).reshape(-1,1))\n",
        "    #print(df.head())\n",
        "    for i in range(len(df)-lead):\n",
        "        dataY.append(df[i:(i+lead)])\n",
        "    return np.array(dataY)"
      ],
      "execution_count": 8,
      "outputs": []
    },
    {
      "cell_type": "code",
      "metadata": {
        "colab": {
          "base_uri": "https://localhost:8080/"
        },
        "id": "Jz6EJI9B6wgx",
        "outputId": "edb5fe41-4beb-4a59-d565-ad0b29643506"
      },
      "source": [
        "data = pd.read_csv('/content/drive/MyDrive/EBL_stock.csv', header=0)\n",
        "data['Date'] = pd.to_datetime(data['Date'])\n",
        "mask = (data['Date'] > '2011-11-11') & (data['Date'] <= '2019-02-28')\n",
        "t_data=data.loc[mask]\n",
        "#print(t_data.head())\n",
        "scaler2=MinMaxScaler()\n",
        "x_sample = [60, 3000]\n",
        "scaler2.fit(np.array(x_sample)[:, np.newaxis])\n",
        "lag=12\n",
        "prediction_days=20\n",
        "trainX= create_data(scaler2,t_data,lag)\n",
        "tY= data[lag:len(trainX)+prediction_days+lag]\n",
        "t_y=pd.DataFrame(tY['Close'])\n",
        "#print(t_y.head())\n",
        "#print(len(trainX),len(trainY))\n",
        "trainY=create_yvalues(scaler2,t_y,prediction_days)\n",
        "trainY=trainY.transpose(2,0,1).reshape(-1,trainY.shape[1])\n",
        "print(trainY)\n",
        "trainY=pd.DataFrame(trainY)\n",
        "#print(trainX.head())\n",
        "\n",
        "\n",
        "print(trainY.head())\n",
        "print(trainY.shape)\n",
        "\n",
        "#print(trainX.head(),trainY.head(5))\n",
        "#print(trainX.shape)\n",
        "\n"
      ],
      "execution_count": 9,
      "outputs": [
        {
          "output_type": "stream",
          "name": "stdout",
          "text": [
            "[[0.21530612 0.21326531 0.21258503 ... 0.20646259 0.21054422 0.20748299]\n",
            " [0.21326531 0.21258503 0.20748299 ... 0.21054422 0.20748299 0.21088435]\n",
            " [0.21258503 0.20748299 0.21156463 ... 0.20748299 0.21088435 0.21564626]\n",
            " ...\n",
            " [0.15306122 0.15204082 0.15204082 ... 0.16768707 0.16836735 0.16870748]\n",
            " [0.15204082 0.15204082 0.15306122 ... 0.16836735 0.16870748 0.16938776]\n",
            " [0.15204082 0.15306122 0.15272109 ... 0.16870748 0.16938776 0.17040816]]\n",
            "         0         1         2   ...        17        18        19\n",
            "0  0.215306  0.213265  0.212585  ...  0.206463  0.210544  0.207483\n",
            "1  0.213265  0.212585  0.207483  ...  0.210544  0.207483  0.210884\n",
            "2  0.212585  0.207483  0.211565  ...  0.207483  0.210884  0.215646\n",
            "3  0.207483  0.211565  0.214286  ...  0.210884  0.215646  0.210884\n",
            "4  0.211565  0.214286  0.210884  ...  0.215646  0.210884  0.213605\n",
            "\n",
            "[5 rows x 20 columns]\n",
            "(1646, 20)\n"
          ]
        }
      ]
    },
    {
      "cell_type": "code",
      "metadata": {
        "colab": {
          "base_uri": "https://localhost:8080/"
        },
        "id": "I4rkK_wh6wgx",
        "outputId": "287cfdb2-024a-4123-ad29-f007516407a1"
      },
      "source": [
        "\n",
        "train_x = trainX.values\n",
        "# split into train and test sets\n",
        "\n",
        "#print(Q.tail())\n",
        "#q=scaler2.fit_transform(Q.values)\n",
        "\n",
        "#print(c)\n",
        "train_y=trainY.values\n",
        "train_x=np.array(train_x)\n",
        "train_y=np.array(train_y)\n",
        "\n",
        "#print(c[1512-12:])\n",
        "#print(train_y[1512-12:])\n",
        "\n",
        "train_x = np.reshape(train_x, (train_x.shape[0], train_x.shape[1], 1))\n",
        "train_y =np.reshape(train_y, (train_y.shape[0], train_y.shape[1], 1))\n",
        "print(len(train_x),len(train_y),train_x.shape,train_y.shape)"
      ],
      "execution_count": 10,
      "outputs": [
        {
          "output_type": "stream",
          "name": "stdout",
          "text": [
            "1646 1646 (1646, 12, 1) (1646, 20, 1)\n"
          ]
        }
      ]
    },
    {
      "cell_type": "code",
      "metadata": {
        "id": "k0O79vli6wgy"
      },
      "source": [
        "import tensorflow as tf\n",
        "from keras.layers.convolutional import Conv1D\n",
        "from keras.layers.convolutional import MaxPooling1D\n",
        "from keras.layers import Flatten\n",
        "from tensorflow.keras import initializers\n",
        "initializer = tf.keras.initializers.GlorotNormal()\n",
        "batch_size = 32\n",
        "opt=Adam(\n",
        "    learning_rate=0.00007,\n",
        "    beta_1=0.7,\n",
        "    beta_2=0.99,\n",
        "    epsilon=1e-08,\n",
        "    amsgrad=True,\n",
        "    )\n",
        "\n",
        "model = Sequential()\n",
        "model.add(Conv1D(filters=512, kernel_size=3, activation='relu', input_shape=(lag,1)))\n",
        "model.add(Conv1D(filters=256, kernel_size=3, activation='relu'))\n",
        "model.add(Conv1D(filters=256, kernel_size=3, activation='relu'))\n",
        "model.add(MaxPooling1D(pool_size=2))\n",
        "model.add(Flatten())\n",
        "model.add(RepeatVector(prediction_days))\n",
        "model.add(LSTM(512, activation='tanh',kernel_initializer=initializer, return_sequences=True))\n",
        "model.add(LSTM(512, activation='tanh',kernel_initializer=initializer,  return_sequences=True))  \n",
        "model.add(LSTM(256, activation='tanh',kernel_initializer=initializer,  return_sequences=True)) \n",
        "model.add(TimeDistributed(Dense(200, activation='relu')))\n",
        "model.add(TimeDistributed(Dense(200, activation='relu')))\n",
        "model.add(TimeDistributed(Dense(100, activation='relu')))\n",
        "model.add(TimeDistributed(Dense(1)))\n",
        "model.compile(loss='mse', optimizer=opt)"
      ],
      "execution_count": 11,
      "outputs": []
    },
    {
      "cell_type": "code",
      "metadata": {
        "colab": {
          "base_uri": "https://localhost:8080/"
        },
        "id": "HeriJly46wgz",
        "outputId": "cb4feffa-5e89-493d-f97a-03d00486748c"
      },
      "source": [
        "%%time\n",
        "history=model.fit(train_x, train_y, epochs=100, batch_size=batch_size, shuffle=False)"
      ],
      "execution_count": 12,
      "outputs": [
        {
          "output_type": "stream",
          "name": "stdout",
          "text": [
            "Epoch 1/100\n",
            "52/52 [==============================] - 18s 48ms/step - loss: 0.1074\n",
            "Epoch 2/100\n",
            "52/52 [==============================] - 2s 43ms/step - loss: 0.0500\n",
            "Epoch 3/100\n",
            "52/52 [==============================] - 2s 43ms/step - loss: 0.0397\n",
            "Epoch 4/100\n",
            "52/52 [==============================] - 2s 43ms/step - loss: 0.0353\n",
            "Epoch 5/100\n",
            "52/52 [==============================] - 2s 43ms/step - loss: 0.0318\n",
            "Epoch 6/100\n",
            "52/52 [==============================] - 2s 43ms/step - loss: 0.0316\n",
            "Epoch 7/100\n",
            "52/52 [==============================] - 2s 43ms/step - loss: 0.0324\n",
            "Epoch 8/100\n",
            "52/52 [==============================] - 2s 43ms/step - loss: 0.0308\n",
            "Epoch 9/100\n",
            "52/52 [==============================] - 2s 43ms/step - loss: 0.0289\n",
            "Epoch 10/100\n",
            "52/52 [==============================] - 2s 43ms/step - loss: 0.0302\n",
            "Epoch 11/100\n",
            "52/52 [==============================] - 2s 43ms/step - loss: 0.0272\n",
            "Epoch 12/100\n",
            "52/52 [==============================] - 2s 43ms/step - loss: 0.0254\n",
            "Epoch 13/100\n",
            "52/52 [==============================] - 2s 43ms/step - loss: 0.0252\n",
            "Epoch 14/100\n",
            "52/52 [==============================] - 2s 43ms/step - loss: 0.0224\n",
            "Epoch 15/100\n",
            "52/52 [==============================] - 2s 43ms/step - loss: 0.0211\n",
            "Epoch 16/100\n",
            "52/52 [==============================] - 2s 43ms/step - loss: 0.0193\n",
            "Epoch 17/100\n",
            "52/52 [==============================] - 2s 43ms/step - loss: 0.0174\n",
            "Epoch 18/100\n",
            "52/52 [==============================] - 2s 43ms/step - loss: 0.0165\n",
            "Epoch 19/100\n",
            "52/52 [==============================] - 2s 43ms/step - loss: 0.0141\n",
            "Epoch 20/100\n",
            "52/52 [==============================] - 2s 43ms/step - loss: 0.0137\n",
            "Epoch 21/100\n",
            "52/52 [==============================] - 2s 43ms/step - loss: 0.0158\n",
            "Epoch 22/100\n",
            "52/52 [==============================] - 2s 43ms/step - loss: 0.0116\n",
            "Epoch 23/100\n",
            "52/52 [==============================] - 2s 43ms/step - loss: 0.0148\n",
            "Epoch 24/100\n",
            "52/52 [==============================] - 2s 43ms/step - loss: 0.0133\n",
            "Epoch 25/100\n",
            "52/52 [==============================] - 2s 43ms/step - loss: 0.0117\n",
            "Epoch 26/100\n",
            "52/52 [==============================] - 2s 43ms/step - loss: 0.0132\n",
            "Epoch 27/100\n",
            "52/52 [==============================] - 2s 44ms/step - loss: 0.0126\n",
            "Epoch 28/100\n",
            "52/52 [==============================] - 2s 44ms/step - loss: 0.0123\n",
            "Epoch 29/100\n",
            "52/52 [==============================] - 2s 43ms/step - loss: 0.0118\n",
            "Epoch 30/100\n",
            "52/52 [==============================] - 2s 44ms/step - loss: 0.0112\n",
            "Epoch 31/100\n",
            "52/52 [==============================] - 2s 44ms/step - loss: 0.0112\n",
            "Epoch 32/100\n",
            "52/52 [==============================] - 2s 43ms/step - loss: 0.0108\n",
            "Epoch 33/100\n",
            "52/52 [==============================] - 2s 43ms/step - loss: 0.0105\n",
            "Epoch 34/100\n",
            "52/52 [==============================] - 2s 43ms/step - loss: 0.0102\n",
            "Epoch 35/100\n",
            "52/52 [==============================] - 2s 43ms/step - loss: 0.0102\n",
            "Epoch 36/100\n",
            "52/52 [==============================] - 2s 43ms/step - loss: 0.0099\n",
            "Epoch 37/100\n",
            "52/52 [==============================] - 2s 43ms/step - loss: 0.0099\n",
            "Epoch 38/100\n",
            "52/52 [==============================] - 2s 43ms/step - loss: 0.0097\n",
            "Epoch 39/100\n",
            "52/52 [==============================] - 2s 43ms/step - loss: 0.0096\n",
            "Epoch 40/100\n",
            "52/52 [==============================] - 2s 43ms/step - loss: 0.0095\n",
            "Epoch 41/100\n",
            "52/52 [==============================] - 2s 43ms/step - loss: 0.0094\n",
            "Epoch 42/100\n",
            "52/52 [==============================] - 2s 43ms/step - loss: 0.0093\n",
            "Epoch 43/100\n",
            "52/52 [==============================] - 2s 43ms/step - loss: 0.0092\n",
            "Epoch 44/100\n",
            "52/52 [==============================] - 2s 43ms/step - loss: 0.0092\n",
            "Epoch 45/100\n",
            "52/52 [==============================] - 2s 43ms/step - loss: 0.0091\n",
            "Epoch 46/100\n",
            "52/52 [==============================] - 2s 44ms/step - loss: 0.0091\n",
            "Epoch 47/100\n",
            "52/52 [==============================] - 2s 44ms/step - loss: 0.0090\n",
            "Epoch 48/100\n",
            "52/52 [==============================] - 2s 44ms/step - loss: 0.0090\n",
            "Epoch 49/100\n",
            "52/52 [==============================] - 2s 44ms/step - loss: 0.0089\n",
            "Epoch 50/100\n",
            "52/52 [==============================] - 2s 44ms/step - loss: 0.0089\n",
            "Epoch 51/100\n",
            "52/52 [==============================] - 2s 44ms/step - loss: 0.0088\n",
            "Epoch 52/100\n",
            "52/52 [==============================] - 2s 44ms/step - loss: 0.0087\n",
            "Epoch 53/100\n",
            "52/52 [==============================] - 2s 44ms/step - loss: 0.0086\n",
            "Epoch 54/100\n",
            "52/52 [==============================] - 2s 43ms/step - loss: 0.0086\n",
            "Epoch 55/100\n",
            "52/52 [==============================] - 2s 44ms/step - loss: 0.0086\n",
            "Epoch 56/100\n",
            "52/52 [==============================] - 2s 43ms/step - loss: 0.0086\n",
            "Epoch 57/100\n",
            "52/52 [==============================] - 2s 44ms/step - loss: 0.0085\n",
            "Epoch 58/100\n",
            "52/52 [==============================] - 2s 44ms/step - loss: 0.0085\n",
            "Epoch 59/100\n",
            "52/52 [==============================] - 2s 44ms/step - loss: 0.0085\n",
            "Epoch 60/100\n",
            "52/52 [==============================] - 2s 43ms/step - loss: 0.0084\n",
            "Epoch 61/100\n",
            "52/52 [==============================] - 2s 43ms/step - loss: 0.0084\n",
            "Epoch 62/100\n",
            "52/52 [==============================] - 2s 43ms/step - loss: 0.0083\n",
            "Epoch 63/100\n",
            "52/52 [==============================] - 2s 43ms/step - loss: 0.0083\n",
            "Epoch 64/100\n",
            "52/52 [==============================] - 2s 43ms/step - loss: 0.0083\n",
            "Epoch 65/100\n",
            "52/52 [==============================] - 2s 44ms/step - loss: 0.0083\n",
            "Epoch 66/100\n",
            "52/52 [==============================] - 2s 43ms/step - loss: 0.0082\n",
            "Epoch 67/100\n",
            "52/52 [==============================] - 2s 44ms/step - loss: 0.0082\n",
            "Epoch 68/100\n",
            "52/52 [==============================] - 2s 44ms/step - loss: 0.0081\n",
            "Epoch 69/100\n",
            "52/52 [==============================] - 2s 44ms/step - loss: 0.0081\n",
            "Epoch 70/100\n",
            "52/52 [==============================] - 2s 44ms/step - loss: 0.0081\n",
            "Epoch 71/100\n",
            "52/52 [==============================] - 2s 44ms/step - loss: 0.0081\n",
            "Epoch 72/100\n",
            "52/52 [==============================] - 2s 43ms/step - loss: 0.0080\n",
            "Epoch 73/100\n",
            "52/52 [==============================] - 2s 43ms/step - loss: 0.0080\n",
            "Epoch 74/100\n",
            "52/52 [==============================] - 2s 44ms/step - loss: 0.0079\n",
            "Epoch 75/100\n",
            "52/52 [==============================] - 2s 44ms/step - loss: 0.0080\n",
            "Epoch 76/100\n",
            "52/52 [==============================] - 2s 43ms/step - loss: 0.0079\n",
            "Epoch 77/100\n",
            "52/52 [==============================] - 2s 43ms/step - loss: 0.0079\n",
            "Epoch 78/100\n",
            "52/52 [==============================] - 2s 43ms/step - loss: 0.0078\n",
            "Epoch 79/100\n",
            "52/52 [==============================] - 2s 43ms/step - loss: 0.0079\n",
            "Epoch 80/100\n",
            "52/52 [==============================] - 2s 43ms/step - loss: 0.0078\n",
            "Epoch 81/100\n",
            "52/52 [==============================] - 2s 43ms/step - loss: 0.0078\n",
            "Epoch 82/100\n",
            "52/52 [==============================] - 2s 44ms/step - loss: 0.0077\n",
            "Epoch 83/100\n",
            "52/52 [==============================] - 2s 44ms/step - loss: 0.0078\n",
            "Epoch 84/100\n",
            "52/52 [==============================] - 2s 44ms/step - loss: 0.0077\n",
            "Epoch 85/100\n",
            "52/52 [==============================] - 2s 43ms/step - loss: 0.0077\n",
            "Epoch 86/100\n",
            "52/52 [==============================] - 2s 43ms/step - loss: 0.0076\n",
            "Epoch 87/100\n",
            "52/52 [==============================] - 2s 43ms/step - loss: 0.0077\n",
            "Epoch 88/100\n",
            "52/52 [==============================] - 2s 43ms/step - loss: 0.0076\n",
            "Epoch 89/100\n",
            "52/52 [==============================] - 2s 43ms/step - loss: 0.0076\n",
            "Epoch 90/100\n",
            "52/52 [==============================] - 2s 43ms/step - loss: 0.0076\n",
            "Epoch 91/100\n",
            "52/52 [==============================] - 2s 43ms/step - loss: 0.0076\n",
            "Epoch 92/100\n",
            "52/52 [==============================] - 2s 44ms/step - loss: 0.0075\n",
            "Epoch 93/100\n",
            "52/52 [==============================] - 2s 44ms/step - loss: 0.0075\n",
            "Epoch 94/100\n",
            "52/52 [==============================] - 2s 45ms/step - loss: 0.0075\n",
            "Epoch 95/100\n",
            "52/52 [==============================] - 2s 43ms/step - loss: 0.0075\n",
            "Epoch 96/100\n",
            "52/52 [==============================] - 2s 44ms/step - loss: 0.0074\n",
            "Epoch 97/100\n",
            "52/52 [==============================] - 2s 43ms/step - loss: 0.0074\n",
            "Epoch 98/100\n",
            "52/52 [==============================] - 2s 43ms/step - loss: 0.0074\n",
            "Epoch 99/100\n",
            "52/52 [==============================] - 2s 43ms/step - loss: 0.0074\n",
            "Epoch 100/100\n",
            "52/52 [==============================] - 2s 44ms/step - loss: 0.0074\n",
            "CPU times: user 3min 25s, sys: 12.3 s, total: 3min 37s\n",
            "Wall time: 4min 27s\n"
          ]
        }
      ]
    },
    {
      "cell_type": "code",
      "metadata": {
        "id": "Okcb45abTMzp"
      },
      "source": [
        "#share price cant differ by +-10% each day \n",
        "def adjust_initial_bias(x,y):\n",
        "  if (y[0]> 1.1*x):\n",
        "    y[0]=1.1*x\n",
        "  if (y[0]< 0.9*x):\n",
        "    y[0]=0.9*x\n",
        "  for i in range(1,len(y)):\n",
        "    if (y[i]>1.1*y[i-1]):\n",
        "      y[i]= 1.1*y[i-1]\n",
        "    if (y[i]<0.9*y[i-1]):\n",
        "      y[i]= 0.9*y[i-1]\n",
        "  return y\n"
      ],
      "execution_count": 13,
      "outputs": []
    },
    {
      "cell_type": "code",
      "metadata": {
        "id": "mMejAElI6wg1"
      },
      "source": [
        "def get_prediction(y,scaler2,test_data):\n",
        "  Out=model.predict(y,verbose=0)\n",
        "  #print(Out)\n",
        "  Out=Out.reshape(1,-1)\n",
        "  \n",
        "  Out=Out.reshape(-1,1)\n",
        "  Out=  scaler2.inverse_transform(Out)\n",
        "  z=test_data['Close'].values\n",
        "  #z[-1]\n",
        "  Out=adjust_initial_bias(z[-1],Out)\n",
        "  output_7=pd.DataFrame(Out)  \n",
        "  return output_7\n"
      ],
      "execution_count": 14,
      "outputs": []
    },
    {
      "cell_type": "code",
      "metadata": {
        "colab": {
          "base_uri": "https://localhost:8080/"
        },
        "id": "vhcfUe1uxdtL",
        "outputId": "b11ae778-1cd0-4da8-dd15-2c8401b21a3e"
      },
      "source": [
        "predict_after=\"2019-9-15\"\n",
        "Y=data.copy\n",
        "test_data=data.loc[data['Date'] < predict_after].tail(lag+1)\n",
        "print(test_data)\n",
        "output_test_data=data.loc[data['Date'] >= predict_after].head(prediction_days)\n",
        "output_test_data.set_index(['Date'],inplace=True)\n",
        "output_test_close=output_test_data['Close']\n",
        "X=create_data(scaler2,test_data,lag)\n",
        "adj=X.copy()\n",
        "X=X.values\n",
        "#X=scaler1.transform(X.values)\n",
        "X = np.reshape(X, (1,X.shape[1], X.shape[0]))\n",
        "model_output=get_prediction(X,scaler2,test_data)\n",
        "model_output.set_index(output_test_close.index,inplace=True)\n",
        "model_output.rename(columns={0:'Close'},inplace=True)\n",
        "output_test_close=pd.DataFrame(output_test_close)\n",
        "print(model_output)\n",
        "print(output_test_close)\n",
        "\n"
      ],
      "execution_count": 19,
      "outputs": [
        {
          "output_type": "stream",
          "name": "stdout",
          "text": [
            "     Symbol       Date  Open  High  Low  Close     Vol\n",
            "1779    EBL 2019-08-27   655   660  648    650   7,271\n",
            "1780    EBL 2019-08-28   660   660  644    644   2,847\n",
            "1781    EBL 2019-08-29   645   647  641    644   7,637\n",
            "1782    EBL 2019-09-01   645   645  630    630   9,999\n",
            "1783    EBL 2019-09-02   630   630  608    613   8,783\n",
            "1784    EBL 2019-09-03   611   626  601    626  10,507\n",
            "1785    EBL 2019-09-04   638   638  624    626  12,249\n",
            "1786    EBL 2019-09-05   623   626  622    622   6,963\n",
            "1787    EBL 2019-09-08   620   620  608    610   5,239\n",
            "1788    EBL 2019-09-09   610   610  590    602  19,909\n",
            "1789    EBL 2019-09-10   601   610  594    598   5,414\n",
            "1790    EBL 2019-09-11   593   600  588    590   8,523\n",
            "1791    EBL 2019-09-12   601   601  580    580  10,357\n",
            "                 Close\n",
            "Date                  \n",
            "2019-09-15  606.650574\n",
            "2019-09-16  654.221680\n",
            "2019-09-17  650.967468\n",
            "2019-09-18  586.880310\n",
            "2019-09-19  557.791992\n",
            "2019-09-22  543.901917\n",
            "2019-09-23  544.338806\n",
            "2019-09-24  550.428284\n",
            "2019-09-25  556.815002\n",
            "2019-09-26  568.764038\n",
            "2019-09-29  577.011353\n",
            "2019-09-30  582.157898\n",
            "2019-10-01  583.727417\n",
            "2019-10-02  580.518127\n",
            "2019-10-03  577.516602\n",
            "2019-10-10  576.181824\n",
            "2019-10-14  577.221924\n",
            "2019-10-15  578.298828\n",
            "2019-10-16  579.352661\n",
            "2019-10-17  580.661377\n",
            "            Close\n",
            "Date             \n",
            "2019-09-15    560\n",
            "2019-09-16    550\n",
            "2019-09-17    570\n",
            "2019-09-18    587\n",
            "2019-09-19    580\n",
            "2019-09-22    568\n",
            "2019-09-23    569\n",
            "2019-09-24    565\n",
            "2019-09-25    558\n",
            "2019-09-26    557\n",
            "2019-09-29    554\n",
            "2019-09-30    565\n",
            "2019-10-01    577\n",
            "2019-10-02    572\n",
            "2019-10-03    575\n",
            "2019-10-10    574\n",
            "2019-10-14    560\n",
            "2019-10-15    554\n",
            "2019-10-16    546\n",
            "2019-10-17    547\n"
          ]
        }
      ]
    },
    {
      "cell_type": "code",
      "metadata": {
        "id": "UM4AUKie6wg2"
      },
      "source": [
        "def error(X,Y):\n",
        "    Close_error= ((X['Close'] - Y['Close']) ** 2).mean() ** .5\n",
        "    print(\"Close_error =\",Close_error)"
      ],
      "execution_count": 20,
      "outputs": []
    },
    {
      "cell_type": "code",
      "metadata": {
        "colab": {
          "base_uri": "https://localhost:8080/"
        },
        "id": "nEhdiooZ6wg2",
        "outputId": "230a9549-fd02-45b0-cb2e-09a41c4b643a"
      },
      "source": [
        "error(output_test_close,model_output)"
      ],
      "execution_count": 21,
      "outputs": [
        {
          "output_type": "stream",
          "name": "stdout",
          "text": [
            "Close_error = 35.856478723760354\n"
          ]
        }
      ]
    },
    {
      "cell_type": "code",
      "metadata": {
        "colab": {
          "base_uri": "https://localhost:8080/",
          "height": 466
        },
        "id": "KYjcE7116wg6",
        "outputId": "a9f7bce5-ec8f-4fcc-90bb-99f81d29868d"
      },
      "source": [
        "real= output_test_close\n",
        "predicted= model_output\n",
        "plt.rcParams.update({'font.size': 22})\n",
        "plt.figure(figsize=(30,10))\n",
        "plt.plot(real, color = 'red',linewidth=3, label = 'real value')\n",
        "plt.plot(predicted, color = 'blue', linewidth=5,label = 'predicted value')\n",
        "plt.title('Stock Close forecasted values vs real values')\n",
        "plt.xlabel('DATE')\n",
        "plt.ylabel('price of stok per Kitta in Ruopees')\n",
        "plt.legend()\n",
        "plt.show()"
      ],
      "execution_count": 22,
      "outputs": [
        {
          "output_type": "display_data",
          "data": {
            "image/png": "[encoded data removed]",
            "text/plain": [
              "<Figure size 2160x720 with 1 Axes>"
            ]
          },
          "metadata": {
            "needs_background": "light"
          }
        }
      ]
    }
  ]
}