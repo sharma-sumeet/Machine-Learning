{
  "nbformat": 4,
  "nbformat_minor": 0,
  "metadata": {
    "accelerator": "GPU",
    "colab": {
      "name": "EBL_prediction_weekly.ipynb",
      "provenance": [],
      "collapsed_sections": []
    },
    "kernelspec": {
      "display_name": "Python 3",
      "language": "python",
      "name": "python3"
    },
    "language_info": {
      "codemirror_mode": {
        "name": "ipython",
        "version": 3
      },
      "file_extension": ".py",
      "mimetype": "text/x-python",
      "name": "python",
      "nbconvert_exporter": "python",
      "pygments_lexer": "ipython3",
      "version": "3.7.3"
    }
  },
  "cells": [
    {
      "cell_type": "code",
      "metadata": {
        "id": "eW9uIzpb6wgl"
      },
      "source": [
        "import numpy as np\n",
        "import pandas as pd\n",
        "from keras.optimizers import Adam\n",
        "import matplotlib.pyplot as plt\n",
        "%matplotlib inline\n",
        "from numpy import array\n",
        "from keras.layers import RepeatVector\n",
        "from keras.layers import TimeDistributed\n",
        "from keras.models import Sequential\n",
        "from keras.layers import Dense, LSTM, Dropout, GRU\n",
        "from sklearn.preprocessing import MinMaxScaler\n",
        "from keras.layers.convolutional import Conv1D\n",
        "from keras.layers.convolutional import MaxPooling1D\n",
        "from keras.layers import Flatten"
      ],
      "execution_count": null,
      "outputs": []
    },
    {
      "cell_type": "code",
      "metadata": {
        "colab": {
          "base_uri": "https://localhost:8080/"
        },
        "id": "6DTfUKM_60wM",
        "outputId": "5679a91a-6e30-49d1-80ab-5ae4778a6603"
      },
      "source": [
        "from google.colab import drive\n",
        "drive.mount('/content/drive',force_remount=True)"
      ],
      "execution_count": null,
      "outputs": [
        {
          "output_type": "stream",
          "text": [
            "Mounted at /content/drive\n"
          ],
          "name": "stdout"
        }
      ]
    },
    {
      "cell_type": "code",
      "metadata": {
        "id": "BrrJFEjP66QY"
      },
      "source": [
        "import sys\n",
        "sys.path.append('/content/drive/MyDrive')"
      ],
      "execution_count": null,
      "outputs": []
    },
    {
      "cell_type": "code",
      "metadata": {
        "id": "d_5LDSEV6wgv"
      },
      "source": [
        "def buildLaggedFeatures(s,lag=2,dropna=True):\n",
        "    #Builds a new DataFrame to facilitate regressing over all possible lagged features'''\n",
        "    if type(s) is pd.DataFrame:\n",
        "        new_dict={}\n",
        "        for l in range(lag,0,-1):\n",
        "            #new_dict[col_name]=s[col_name]\n",
        "            # create lagged Series\n",
        "            for col_name in s:\n",
        "                new_dict['%s_lag%d' %(col_name,l)]=s[col_name].shift(l)\n",
        "        for col_name in s:\n",
        "            new_dict[col_name]=s[col_name]\n",
        "        res=pd.DataFrame(new_dict,index=s.index)\n",
        "        #print(res.head())\n",
        "\n",
        "    elif type(s) is pd.Series:\n",
        "        the_range=range(lag+1)\n",
        "        res=pd.concat([s.shift(i) for i in the_range],axis=1)\n",
        "        res.columns=['lag_%d' %i for i in the_range]\n",
        "    else:\n",
        "        print('Only works for DataFrame or Series')\n",
        "        return None\n",
        "    if dropna:\n",
        "        return res.dropna()\n",
        "    else:\n",
        "        return res "
      ],
      "execution_count": null,
      "outputs": []
    },
    {
      "cell_type": "code",
      "metadata": {
        "id": "6cMbepYc6wgw"
      },
      "source": [
        "def create_data(scaler2,data,lag):\n",
        "    #o_data = read_csv('NLIC_stock.csv', header=0)\n",
        "    #data['Date'] = pd.to_datetime(o_data['Date'])\n",
        "    #mask = (data['Date'] > '2011-11-11') & (data['Date'] <= '2018-12-30')\n",
        "    #t_data=data.loc[mask]\n",
        "    t_data= data.drop(columns=['Symbol'])\n",
        "    t_data.set_index(['Date'], inplace=True)\n",
        "    t_data=t_data.drop(columns=['Open','High','Vol','Low'])\n",
        "    t_data['Close'] = scaler2.transform((t_data['Close'].to_numpy()).reshape(-1,1))\n",
        "    #print(t_data.head())\n",
        "    res=buildLaggedFeatures(t_data,lag,dropna=True)\n",
        "    #print(res.head())\n",
        "    res=res.drop(columns=['Close'])\n",
        "    \n",
        "    return res  "
      ],
      "execution_count": null,
      "outputs": []
    },
    {
      "cell_type": "code",
      "metadata": {
        "id": "HmZ7SlTc6wgw"
      },
      "source": [
        "def create_yvalues(scaler2,df,lead):\n",
        "    dataY = []\n",
        "    df['Close'] = scaler2.transform((df['Close'].to_numpy()).reshape(-1,1))\n",
        "    #print(df.head())\n",
        "    for i in range(len(df)-lead):\n",
        "        dataY.append(df[i:(i+lead)])\n",
        "    return np.array(dataY)"
      ],
      "execution_count": null,
      "outputs": []
    },
    {
      "cell_type": "code",
      "metadata": {
        "id": "Jz6EJI9B6wgx",
        "colab": {
          "base_uri": "https://localhost:8080/"
        },
        "outputId": "cb641309-4a79-4693-f073-b1417daaf454"
      },
      "source": [
        "data = pd.read_csv('/content/drive/MyDrive/EBL_stock.csv', header=0)\n",
        "data['Date'] = pd.to_datetime(data['Date'])\n",
        "mask = (data['Date'] > '2011-11-11') & (data['Date'] <= '2018-12-31')\n",
        "t_data=data.loc[mask]\n",
        "#print(t_data.head())\n",
        "scaler2=MinMaxScaler()\n",
        "x_sample = [60, 3000]\n",
        "scaler2.fit(np.array(x_sample)[:, np.newaxis])\n",
        "lag=8\n",
        "prediction_days=6\n",
        "trainX= create_data(scaler2,t_data,lag)\n",
        "tY= data[lag:len(trainX)+prediction_days+lag]\n",
        "t_y=pd.DataFrame(tY['Close'])\n",
        "#print(t_y.head())\n",
        "#print(len(trainX),len(trainY))\n",
        "trainY=create_yvalues(scaler2,t_y,prediction_days)\n",
        "trainY=trainY.transpose(2,0,1).reshape(-1,trainY.shape[1])\n",
        "print(trainY)\n",
        "trainY=pd.DataFrame(trainY)\n",
        "#print(trainX.head())\n",
        "\n",
        "\n",
        "print(trainY.head())\n",
        "print(trainY.shape)\n",
        "\n",
        "#print(trainX.head(),trainY.head(5))\n",
        "#print(trainX.shape)\n",
        "\n"
      ],
      "execution_count": null,
      "outputs": [
        {
          "output_type": "stream",
          "text": [
            "[[0.22244898 0.22721088 0.21530612 0.21666667 0.21530612 0.21326531]\n",
            " [0.22721088 0.21530612 0.21666667 0.21530612 0.21326531 0.21258503]\n",
            " [0.21530612 0.21666667 0.21530612 0.21326531 0.21258503 0.20748299]\n",
            " ...\n",
            " [0.16666667 0.16598639 0.16326531 0.16258503 0.16326531 0.16156463]\n",
            " [0.16598639 0.16326531 0.16258503 0.16326531 0.16156463 0.16054422]\n",
            " [0.16326531 0.16258503 0.16326531 0.16156463 0.16054422 0.16054422]]\n",
            "          0         1         2         3         4         5\n",
            "0  0.222449  0.227211  0.215306  0.216667  0.215306  0.213265\n",
            "1  0.227211  0.215306  0.216667  0.215306  0.213265  0.212585\n",
            "2  0.215306  0.216667  0.215306  0.213265  0.212585  0.207483\n",
            "3  0.216667  0.215306  0.213265  0.212585  0.207483  0.211565\n",
            "4  0.215306  0.213265  0.212585  0.207483  0.211565  0.214286\n",
            "(1608, 6)\n"
          ],
          "name": "stdout"
        }
      ]
    },
    {
      "cell_type": "code",
      "metadata": {
        "colab": {
          "base_uri": "https://localhost:8080/"
        },
        "id": "I4rkK_wh6wgx",
        "outputId": "45842b76-f9f8-4110-e450-3259ac494c63"
      },
      "source": [
        "\n",
        "train_x = trainX.values\n",
        "# split into train and test sets\n",
        "\n",
        "#print(Q.tail())\n",
        "#q=scaler2.fit_transform(Q.values)\n",
        "\n",
        "#print(c)\n",
        "train_y=trainY.values\n",
        "train_x=np.array(train_x)\n",
        "train_y=np.array(train_y)\n",
        "\n",
        "#print(c[1512-12:])\n",
        "#print(train_y[1512-12:])\n",
        "#create effective data structure for training\n",
        "train_x = np.reshape(train_x, (train_x.shape[0], train_x.shape[1], 1))\n",
        "train_y =np.reshape(train_y, (train_y.shape[0], train_y.shape[1], 1))\n",
        "print(len(train_x),len(train_y),train_x.shape,train_y.shape)"
      ],
      "execution_count": null,
      "outputs": [
        {
          "output_type": "stream",
          "text": [
            "1608 1608 (1608, 8, 1) (1608, 6, 1)\n"
          ],
          "name": "stdout"
        }
      ]
    },
    {
      "cell_type": "code",
      "metadata": {
        "id": "k0O79vli6wgy"
      },
      "source": [
        "#we create model using 1D CNN and use repeat vector of 7 days to create a model that can effectively predict 7 days ahead values\n",
        "#Time Distributed layer help to even time relationship amog input values\n",
        "# the concept is CNN extract features, LSTM develops Relationship among features, \n",
        "#and time distributed layer helps too develop time relationship among indermidiate outputs\n",
        "batch_size = 32\n",
        "opt=Adam(\n",
        "    learning_rate=0.0015,\n",
        "    beta_1=0.9,\n",
        "    beta_2=0.99,\n",
        "    epsilon=1e-07,\n",
        "    amsgrad=True,\n",
        "    )\n",
        "model = Sequential()\n",
        "model.add(Conv1D(filters=256, kernel_size=3, activation='relu', input_shape=(lag,1)))\n",
        "model.add(Conv1D(filters=128, kernel_size=3, activation='relu'))\n",
        "model.add(Conv1D(filters=128, kernel_size=3, activation='relu'))\n",
        "model.add(MaxPooling1D(pool_size=2))\n",
        "model.add(Flatten())\n",
        "model.add(RepeatVector(prediction_days))\n",
        "model.add(LSTM(200, activation='tanh', return_sequences=True))\n",
        "model.add(LSTM(200, activation='tanh', return_sequences=True))\n",
        "model.add(TimeDistributed(Dense(100, activation='relu')))\n",
        "model.add(TimeDistributed(Dense(100, activation='relu')))\n",
        "model.add(TimeDistributed(Dense(1)))\n",
        "model.compile(loss='mse', optimizer=opt)"
      ],
      "execution_count": null,
      "outputs": []
    },
    {
      "cell_type": "code",
      "metadata": {
        "colab": {
          "base_uri": "https://localhost:8080/"
        },
        "id": "HeriJly46wgz",
        "outputId": "aa338353-5d42-4e97-e204-e23acaa0bbbb"
      },
      "source": [
        "%%time\n",
        "history=model.fit(train_x, train_y, epochs=150, batch_size=batch_size, shuffle=False)"
      ],
      "execution_count": null,
      "outputs": [
        {
          "output_type": "stream",
          "text": [
            "Epoch 1/150\n",
            "51/51 [==============================] - 3s 6ms/step - loss: 0.0498\n",
            "Epoch 2/150\n",
            "51/51 [==============================] - 0s 5ms/step - loss: 0.0395\n",
            "Epoch 3/150\n",
            "51/51 [==============================] - 0s 5ms/step - loss: 0.0287\n",
            "Epoch 4/150\n",
            "51/51 [==============================] - 0s 5ms/step - loss: 0.0432\n",
            "Epoch 5/150\n",
            "51/51 [==============================] - 0s 5ms/step - loss: 0.0459\n",
            "Epoch 6/150\n",
            "51/51 [==============================] - 0s 5ms/step - loss: 0.0364\n",
            "Epoch 7/150\n",
            "51/51 [==============================] - 0s 6ms/step - loss: 0.0480\n",
            "Epoch 8/150\n",
            "51/51 [==============================] - 0s 5ms/step - loss: 0.0498\n",
            "Epoch 9/150\n",
            "51/51 [==============================] - 0s 5ms/step - loss: 0.0743\n",
            "Epoch 10/150\n",
            "51/51 [==============================] - 0s 6ms/step - loss: 0.0745\n",
            "Epoch 11/150\n",
            "51/51 [==============================] - 0s 6ms/step - loss: 0.0776\n",
            "Epoch 12/150\n",
            "51/51 [==============================] - 0s 5ms/step - loss: 0.0776\n",
            "Epoch 13/150\n",
            "51/51 [==============================] - 0s 5ms/step - loss: 0.0763\n",
            "Epoch 14/150\n",
            "51/51 [==============================] - 0s 5ms/step - loss: 0.0758\n",
            "Epoch 15/150\n",
            "51/51 [==============================] - 0s 6ms/step - loss: 0.0756\n",
            "Epoch 16/150\n",
            "51/51 [==============================] - 0s 5ms/step - loss: 0.0753\n",
            "Epoch 17/150\n",
            "51/51 [==============================] - 0s 5ms/step - loss: 0.0751\n",
            "Epoch 18/150\n",
            "51/51 [==============================] - 0s 6ms/step - loss: 0.0749\n",
            "Epoch 19/150\n",
            "51/51 [==============================] - 0s 5ms/step - loss: 0.0747\n",
            "Epoch 20/150\n",
            "51/51 [==============================] - 0s 5ms/step - loss: 0.0745\n",
            "Epoch 21/150\n",
            "51/51 [==============================] - 0s 5ms/step - loss: 0.0744\n",
            "Epoch 22/150\n",
            "51/51 [==============================] - 0s 6ms/step - loss: 0.0742\n",
            "Epoch 23/150\n",
            "51/51 [==============================] - 0s 5ms/step - loss: 0.0741\n",
            "Epoch 24/150\n",
            "51/51 [==============================] - 0s 5ms/step - loss: 0.0739\n",
            "Epoch 25/150\n",
            "51/51 [==============================] - 0s 6ms/step - loss: 0.0738\n",
            "Epoch 26/150\n",
            "51/51 [==============================] - 0s 5ms/step - loss: 0.0737\n",
            "Epoch 27/150\n",
            "51/51 [==============================] - 0s 5ms/step - loss: 0.0735\n",
            "Epoch 28/150\n",
            "51/51 [==============================] - 0s 6ms/step - loss: 0.0734\n",
            "Epoch 29/150\n",
            "51/51 [==============================] - 0s 6ms/step - loss: 0.0733\n",
            "Epoch 30/150\n",
            "51/51 [==============================] - 0s 5ms/step - loss: 0.0731\n",
            "Epoch 31/150\n",
            "51/51 [==============================] - 0s 5ms/step - loss: 0.0730\n",
            "Epoch 32/150\n",
            "51/51 [==============================] - 0s 6ms/step - loss: 0.0728\n",
            "Epoch 33/150\n",
            "51/51 [==============================] - 0s 6ms/step - loss: 0.0725\n",
            "Epoch 34/150\n",
            "51/51 [==============================] - 0s 6ms/step - loss: 0.0714\n",
            "Epoch 35/150\n",
            "51/51 [==============================] - 0s 6ms/step - loss: 0.0683\n",
            "Epoch 36/150\n",
            "51/51 [==============================] - 0s 6ms/step - loss: 0.0636\n",
            "Epoch 37/150\n",
            "51/51 [==============================] - 0s 5ms/step - loss: 0.0325\n",
            "Epoch 38/150\n",
            "51/51 [==============================] - 0s 6ms/step - loss: 0.0307\n",
            "Epoch 39/150\n",
            "51/51 [==============================] - 0s 6ms/step - loss: 0.0222\n",
            "Epoch 40/150\n",
            "51/51 [==============================] - 0s 6ms/step - loss: 0.0266\n",
            "Epoch 41/150\n",
            "51/51 [==============================] - 0s 6ms/step - loss: 0.0153\n",
            "Epoch 42/150\n",
            "51/51 [==============================] - 0s 5ms/step - loss: 0.0136\n",
            "Epoch 43/150\n",
            "51/51 [==============================] - 0s 6ms/step - loss: 0.0066\n",
            "Epoch 44/150\n",
            "51/51 [==============================] - 0s 6ms/step - loss: 0.0076\n",
            "Epoch 45/150\n",
            "51/51 [==============================] - 0s 5ms/step - loss: 0.0069\n",
            "Epoch 46/150\n",
            "51/51 [==============================] - 0s 5ms/step - loss: 0.0048\n",
            "Epoch 47/150\n",
            "51/51 [==============================] - 0s 6ms/step - loss: 0.0036\n",
            "Epoch 48/150\n",
            "51/51 [==============================] - 0s 6ms/step - loss: 0.0036\n",
            "Epoch 49/150\n",
            "51/51 [==============================] - 0s 5ms/step - loss: 0.0030\n",
            "Epoch 50/150\n",
            "51/51 [==============================] - 0s 5ms/step - loss: 0.0028\n",
            "Epoch 51/150\n",
            "51/51 [==============================] - 0s 6ms/step - loss: 0.0030\n",
            "Epoch 52/150\n",
            "51/51 [==============================] - 0s 6ms/step - loss: 0.0027\n",
            "Epoch 53/150\n",
            "51/51 [==============================] - 0s 6ms/step - loss: 0.0026\n",
            "Epoch 54/150\n",
            "51/51 [==============================] - 0s 6ms/step - loss: 0.0029\n",
            "Epoch 55/150\n",
            "51/51 [==============================] - 0s 6ms/step - loss: 0.0029\n",
            "Epoch 56/150\n",
            "51/51 [==============================] - 0s 5ms/step - loss: 0.0025\n",
            "Epoch 57/150\n",
            "51/51 [==============================] - 0s 6ms/step - loss: 0.0024\n",
            "Epoch 58/150\n",
            "51/51 [==============================] - 0s 6ms/step - loss: 0.0024\n",
            "Epoch 59/150\n",
            "51/51 [==============================] - 0s 5ms/step - loss: 0.0024\n",
            "Epoch 60/150\n",
            "51/51 [==============================] - 0s 6ms/step - loss: 0.0024\n",
            "Epoch 61/150\n",
            "51/51 [==============================] - 0s 6ms/step - loss: 0.0023\n",
            "Epoch 62/150\n",
            "51/51 [==============================] - 0s 5ms/step - loss: 0.0024\n",
            "Epoch 63/150\n",
            "51/51 [==============================] - 0s 6ms/step - loss: 0.0023\n",
            "Epoch 64/150\n",
            "51/51 [==============================] - 0s 5ms/step - loss: 0.0022\n",
            "Epoch 65/150\n",
            "51/51 [==============================] - 0s 6ms/step - loss: 0.0022\n",
            "Epoch 66/150\n",
            "51/51 [==============================] - 0s 5ms/step - loss: 0.0023\n",
            "Epoch 67/150\n",
            "51/51 [==============================] - 0s 6ms/step - loss: 0.0023\n",
            "Epoch 68/150\n",
            "51/51 [==============================] - 0s 5ms/step - loss: 0.0023\n",
            "Epoch 69/150\n",
            "51/51 [==============================] - 0s 5ms/step - loss: 0.0022\n",
            "Epoch 70/150\n",
            "51/51 [==============================] - 0s 6ms/step - loss: 0.0022\n",
            "Epoch 71/150\n",
            "51/51 [==============================] - 0s 6ms/step - loss: 0.0021\n",
            "Epoch 72/150\n",
            "51/51 [==============================] - 0s 6ms/step - loss: 0.0022\n",
            "Epoch 73/150\n",
            "51/51 [==============================] - 0s 5ms/step - loss: 0.0021\n",
            "Epoch 74/150\n",
            "51/51 [==============================] - 0s 5ms/step - loss: 0.0022\n",
            "Epoch 75/150\n",
            "51/51 [==============================] - 0s 6ms/step - loss: 0.0021\n",
            "Epoch 76/150\n",
            "51/51 [==============================] - 0s 6ms/step - loss: 0.0022\n",
            "Epoch 77/150\n",
            "51/51 [==============================] - 0s 5ms/step - loss: 0.0020\n",
            "Epoch 78/150\n",
            "51/51 [==============================] - 0s 6ms/step - loss: 0.0021\n",
            "Epoch 79/150\n",
            "51/51 [==============================] - 0s 6ms/step - loss: 0.0021\n",
            "Epoch 80/150\n",
            "51/51 [==============================] - 0s 5ms/step - loss: 0.0021\n",
            "Epoch 81/150\n",
            "51/51 [==============================] - 0s 5ms/step - loss: 0.0020\n",
            "Epoch 82/150\n",
            "51/51 [==============================] - 0s 6ms/step - loss: 0.0021\n",
            "Epoch 83/150\n",
            "51/51 [==============================] - 0s 5ms/step - loss: 0.0021\n",
            "Epoch 84/150\n",
            "51/51 [==============================] - 0s 6ms/step - loss: 0.0020\n",
            "Epoch 85/150\n",
            "51/51 [==============================] - 0s 6ms/step - loss: 0.0020\n",
            "Epoch 86/150\n",
            "51/51 [==============================] - 0s 6ms/step - loss: 0.0020\n",
            "Epoch 87/150\n",
            "51/51 [==============================] - 0s 5ms/step - loss: 0.0020\n",
            "Epoch 88/150\n",
            "51/51 [==============================] - 0s 5ms/step - loss: 0.0020\n",
            "Epoch 89/150\n",
            "51/51 [==============================] - 0s 5ms/step - loss: 0.0020\n",
            "Epoch 90/150\n",
            "51/51 [==============================] - 0s 5ms/step - loss: 0.0020\n",
            "Epoch 91/150\n",
            "51/51 [==============================] - 0s 6ms/step - loss: 0.0020\n",
            "Epoch 92/150\n",
            "51/51 [==============================] - 0s 6ms/step - loss: 0.0020\n",
            "Epoch 93/150\n",
            "51/51 [==============================] - 0s 6ms/step - loss: 0.0020\n",
            "Epoch 94/150\n",
            "51/51 [==============================] - 0s 5ms/step - loss: 0.0020\n",
            "Epoch 95/150\n",
            "51/51 [==============================] - 0s 5ms/step - loss: 0.0020\n",
            "Epoch 96/150\n",
            "51/51 [==============================] - 0s 5ms/step - loss: 0.0019\n",
            "Epoch 97/150\n",
            "51/51 [==============================] - 0s 6ms/step - loss: 0.0020\n",
            "Epoch 98/150\n",
            "51/51 [==============================] - 0s 5ms/step - loss: 0.0019\n",
            "Epoch 99/150\n",
            "51/51 [==============================] - 0s 6ms/step - loss: 0.0020\n",
            "Epoch 100/150\n",
            "51/51 [==============================] - 0s 6ms/step - loss: 0.0018\n",
            "Epoch 101/150\n",
            "51/51 [==============================] - 0s 5ms/step - loss: 0.0020\n",
            "Epoch 102/150\n",
            "51/51 [==============================] - 0s 5ms/step - loss: 0.0018\n",
            "Epoch 103/150\n",
            "51/51 [==============================] - 0s 6ms/step - loss: 0.0019\n",
            "Epoch 104/150\n",
            "51/51 [==============================] - 0s 6ms/step - loss: 0.0019\n",
            "Epoch 105/150\n",
            "51/51 [==============================] - 0s 5ms/step - loss: 0.0019\n",
            "Epoch 106/150\n",
            "51/51 [==============================] - 0s 5ms/step - loss: 0.0018\n",
            "Epoch 107/150\n",
            "51/51 [==============================] - 0s 6ms/step - loss: 0.0020\n",
            "Epoch 108/150\n",
            "51/51 [==============================] - 0s 5ms/step - loss: 0.0018\n",
            "Epoch 109/150\n",
            "51/51 [==============================] - 0s 5ms/step - loss: 0.0020\n",
            "Epoch 110/150\n",
            "51/51 [==============================] - 0s 6ms/step - loss: 0.0018\n",
            "Epoch 111/150\n",
            "51/51 [==============================] - 0s 5ms/step - loss: 0.0021\n",
            "Epoch 112/150\n",
            "51/51 [==============================] - 0s 5ms/step - loss: 0.0018\n",
            "Epoch 113/150\n",
            "51/51 [==============================] - 0s 6ms/step - loss: 0.0020\n",
            "Epoch 114/150\n",
            "51/51 [==============================] - 0s 6ms/step - loss: 0.0017\n",
            "Epoch 115/150\n",
            "51/51 [==============================] - 0s 5ms/step - loss: 0.0018\n",
            "Epoch 116/150\n",
            "51/51 [==============================] - 0s 5ms/step - loss: 0.0017\n",
            "Epoch 117/150\n",
            "51/51 [==============================] - 0s 6ms/step - loss: 0.0019\n",
            "Epoch 118/150\n",
            "51/51 [==============================] - 0s 5ms/step - loss: 0.0017\n",
            "Epoch 119/150\n",
            "51/51 [==============================] - 0s 6ms/step - loss: 0.0018\n",
            "Epoch 120/150\n",
            "51/51 [==============================] - 0s 6ms/step - loss: 0.0017\n",
            "Epoch 121/150\n",
            "51/51 [==============================] - 0s 5ms/step - loss: 0.0020\n",
            "Epoch 122/150\n",
            "51/51 [==============================] - 0s 5ms/step - loss: 0.0017\n",
            "Epoch 123/150\n",
            "51/51 [==============================] - 0s 6ms/step - loss: 0.0019\n",
            "Epoch 124/150\n",
            "51/51 [==============================] - 0s 6ms/step - loss: 0.0017\n",
            "Epoch 125/150\n",
            "51/51 [==============================] - 0s 6ms/step - loss: 0.0020\n",
            "Epoch 126/150\n",
            "51/51 [==============================] - 0s 6ms/step - loss: 0.0016\n",
            "Epoch 127/150\n",
            "51/51 [==============================] - 0s 6ms/step - loss: 0.0020\n",
            "Epoch 128/150\n",
            "51/51 [==============================] - 0s 5ms/step - loss: 0.0016\n",
            "Epoch 129/150\n",
            "51/51 [==============================] - 0s 6ms/step - loss: 0.0020\n",
            "Epoch 130/150\n",
            "51/51 [==============================] - 0s 5ms/step - loss: 0.0016\n",
            "Epoch 131/150\n",
            "51/51 [==============================] - 0s 6ms/step - loss: 0.0018\n",
            "Epoch 132/150\n",
            "51/51 [==============================] - 0s 6ms/step - loss: 0.0016\n",
            "Epoch 133/150\n",
            "51/51 [==============================] - 0s 6ms/step - loss: 0.0018\n",
            "Epoch 134/150\n",
            "51/51 [==============================] - 0s 5ms/step - loss: 0.0016\n",
            "Epoch 135/150\n",
            "51/51 [==============================] - 0s 6ms/step - loss: 0.0018\n",
            "Epoch 136/150\n",
            "51/51 [==============================] - 0s 6ms/step - loss: 0.0015\n",
            "Epoch 137/150\n",
            "51/51 [==============================] - 0s 6ms/step - loss: 0.0018\n",
            "Epoch 138/150\n",
            "51/51 [==============================] - 0s 5ms/step - loss: 0.0015\n",
            "Epoch 139/150\n",
            "51/51 [==============================] - 0s 6ms/step - loss: 0.0018\n",
            "Epoch 140/150\n",
            "51/51 [==============================] - 0s 6ms/step - loss: 0.0015\n",
            "Epoch 141/150\n",
            "51/51 [==============================] - 0s 5ms/step - loss: 0.0017\n",
            "Epoch 142/150\n",
            "51/51 [==============================] - 0s 5ms/step - loss: 0.0015\n",
            "Epoch 143/150\n",
            "51/51 [==============================] - 0s 6ms/step - loss: 0.0018\n",
            "Epoch 144/150\n",
            "51/51 [==============================] - 0s 6ms/step - loss: 0.0015\n",
            "Epoch 145/150\n",
            "51/51 [==============================] - 0s 6ms/step - loss: 0.0018\n",
            "Epoch 146/150\n",
            "51/51 [==============================] - 0s 6ms/step - loss: 0.0015\n",
            "Epoch 147/150\n",
            "51/51 [==============================] - 0s 5ms/step - loss: 0.0018\n",
            "Epoch 148/150\n",
            "51/51 [==============================] - 0s 6ms/step - loss: 0.0014\n",
            "Epoch 149/150\n",
            "51/51 [==============================] - 0s 6ms/step - loss: 0.0018\n",
            "Epoch 150/150\n",
            "51/51 [==============================] - 0s 6ms/step - loss: 0.0014\n",
            "CPU times: user 52.5 s, sys: 4.71 s, total: 57.2 s\n",
            "Wall time: 45.2 s\n"
          ],
          "name": "stdout"
        }
      ]
    },
    {
      "cell_type": "code",
      "metadata": {
        "id": "mMejAElI6wg1"
      },
      "source": [
        "def get_prediction(y,scaler2):\n",
        "  Out=model.predict(y,verbose=0)\n",
        "  #print(Out)\n",
        "  Out=Out.reshape(1,-1)\n",
        "  \n",
        "  Out=Out.reshape(-1,1)\n",
        "  Out=  scaler2.inverse_transform(Out)\n",
        "  output_7=pd.DataFrame(Out)  \n",
        "  return output_7\n"
      ],
      "execution_count": null,
      "outputs": []
    },
    {
      "cell_type": "code",
      "metadata": {
        "colab": {
          "base_uri": "https://localhost:8080/"
        },
        "id": "vhcfUe1uxdtL",
        "outputId": "6c0f1b6e-51f3-4def-deab-b090e49d3393"
      },
      "source": [
        "predict_after=\"2019-8-21\"\n",
        "Y=data.copy\n",
        "test_data=data.loc[data['Date'] < predict_after].tail(lag+1)\n",
        "print(test_data)\n",
        "output_test_data=data.loc[data['Date'] >= predict_after].head(prediction_days)\n",
        "output_test_data.set_index(['Date'],inplace=True)\n",
        "output_test_close=output_test_data['Close']\n",
        "X=create_data(scaler2,test_data,lag)\n",
        "X=X.values\n",
        "#X=scaler1.transform(X.values)\n",
        "X = np.reshape(X, (1,X.shape[1], X.shape[0]))\n",
        "model_output=get_prediction(X,scaler2)\n",
        "model_output.set_index(output_test_close.index,inplace=True)\n",
        "model_output.rename(columns={0:'Close'},inplace=True)\n",
        "output_test_close=pd.DataFrame(output_test_close)\n",
        "print(model_output)\n",
        "print(output_test_close)\n",
        "\n"
      ],
      "execution_count": null,
      "outputs": [
        {
          "output_type": "stream",
          "text": [
            "     Symbol       Date  Open  High  Low  Close    Vol\n",
            "1766    EBL 2019-08-08   664   664  651    653  4,380\n",
            "1767    EBL 2019-08-11   650   667  650    667  9,429\n",
            "1768    EBL 2019-08-12   665   665  654    657  5,983\n",
            "1769    EBL 2019-08-13   657   657  653    655  8,123\n",
            "1770    EBL 2019-08-14   650   655  647    647  3,884\n",
            "1771    EBL 2019-08-15   648   648  641    641  2,293\n",
            "1772    EBL 2019-08-18   645   661  641    642  8,553\n",
            "1773    EBL 2019-08-19   642   658  642    651  7,588\n",
            "1774    EBL 2019-08-20   651   653  647    650  3,043\n",
            "                 Close\n",
            "Date                  \n",
            "2019-08-21  632.893677\n",
            "2019-08-22  636.578735\n",
            "2019-08-25  641.913208\n",
            "2019-08-26  633.530457\n",
            "2019-08-27  639.238525\n",
            "2019-08-28  633.384094\n",
            "            Close\n",
            "Date             \n",
            "2019-08-21    651\n",
            "2019-08-22    649\n",
            "2019-08-25    655\n",
            "2019-08-26    648\n",
            "2019-08-27    650\n",
            "2019-08-28    644\n"
          ],
          "name": "stdout"
        }
      ]
    },
    {
      "cell_type": "code",
      "metadata": {
        "id": "UM4AUKie6wg2"
      },
      "source": [
        "#calculate RMSE\n",
        "def error(X,Y):\n",
        "    Close_error= ((X['Close'] - Y['Close']) ** 2).mean() ** .5\n",
        "    print(\"Close_error =\",Close_error)"
      ],
      "execution_count": null,
      "outputs": []
    },
    {
      "cell_type": "code",
      "metadata": {
        "colab": {
          "base_uri": "https://localhost:8080/"
        },
        "id": "nEhdiooZ6wg2",
        "outputId": "fb41b4db-fbb8-499d-e80f-b6831ca436eb"
      },
      "source": [
        "error(output_test_close,model_output)"
      ],
      "execution_count": null,
      "outputs": [
        {
          "output_type": "stream",
          "text": [
            "Close_error = 16.39004366706765\n"
          ],
          "name": "stdout"
        }
      ]
    },
    {
      "cell_type": "code",
      "metadata": {
        "colab": {
          "base_uri": "https://localhost:8080/",
          "height": 466
        },
        "id": "KYjcE7116wg6",
        "outputId": "d8b2ffc9-ef87-4483-c7c7-7fbd925ec41c"
      },
      "source": [
        "real= output_test_close\n",
        "predicted= model_output\n",
        "plt.rcParams.update({'font.size': 22})\n",
        "plt.figure(figsize=(30,10))\n",
        "plt.plot(real, color = 'red',linewidth=3, label = 'real value')\n",
        "plt.plot(predicted, color = 'blue', linewidth=5,label = 'predicted value')\n",
        "plt.title('Stock Close forecasted values vs real values')\n",
        "plt.xlabel('DATE')\n",
        "plt.ylabel('price of stok per Kitta in Ruopees')\n",
        "plt.legend()\n",
        "plt.show()"
      ],
      "execution_count": null,
      "outputs": [
        {
          "output_type": "display_data",
          "data": {
            "image/png": "[encoded data removed]",
            "text/plain": [
              "<Figure size 2160x720 with 1 Axes>"
            ]
          },
          "metadata": {
            "tags": [],
            "needs_background": "light"
          }
        }
      ]
    }
  ]
}