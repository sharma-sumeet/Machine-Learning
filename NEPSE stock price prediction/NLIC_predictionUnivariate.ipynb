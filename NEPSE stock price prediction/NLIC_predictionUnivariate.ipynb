{
  "nbformat": 4,
  "nbformat_minor": 0,
  "metadata": {
    "accelerator": "GPU",
    "colab": {
      "name": "NLIC_predictionUnivariate.ipynb",
      "provenance": [],
      "collapsed_sections": []
    },
    "kernelspec": {
      "display_name": "Python 3",
      "language": "python",
      "name": "python3"
    },
    "language_info": {
      "codemirror_mode": {
        "name": "ipython",
        "version": 3
      },
      "file_extension": ".py",
      "mimetype": "text/x-python",
      "name": "python",
      "nbconvert_exporter": "python",
      "pygments_lexer": "ipython3",
      "version": "3.7.3"
    }
  },
  "cells": [
    {
      "cell_type": "code",
      "metadata": {
        "id": "eW9uIzpb6wgl"
      },
      "source": [
        "import numpy as np\n",
        "import pandas as pd\n",
        "from numpy import array\n",
        "\n",
        "from keras.models import Sequential\n",
        "from keras.layers import Dense, LSTM, Dropout, GRU\n",
        "from sklearn.preprocessing import MinMaxScaler\n",
        "from keras.optimizers import Adam\n",
        "import matplotlib.pyplot as plt\n",
        "%matplotlib inline\n",
        "from numpy import array\n",
        "from keras.layers import RepeatVector\n",
        "from keras.layers import TimeDistributed\n",
        "from keras.models import Sequential\n",
        "from keras.layers import Dense, LSTM, Dropout, GRU\n",
        "from sklearn.preprocessing import MinMaxScaler"
      ],
      "execution_count": null,
      "outputs": []
    },
    {
      "cell_type": "code",
      "metadata": {
        "colab": {
          "base_uri": "https://localhost:8080/"
        },
        "id": "6DTfUKM_60wM",
        "outputId": "e015f611-33cd-45ab-b556-2737fc2b8be3"
      },
      "source": [
        "from google.colab import drive\n",
        "drive.mount('/content/drive',force_remount=True)"
      ],
      "execution_count": null,
      "outputs": [
        {
          "output_type": "stream",
          "text": [
            "Mounted at /content/drive\n"
          ],
          "name": "stdout"
        }
      ]
    },
    {
      "cell_type": "code",
      "metadata": {
        "id": "BrrJFEjP66QY"
      },
      "source": [
        "import sys\n",
        "sys.path.append('/content/drive/MyDrive')"
      ],
      "execution_count": null,
      "outputs": []
    },
    {
      "cell_type": "code",
      "metadata": {
        "id": "d_5LDSEV6wgv"
      },
      "source": [
        "def buildLaggedFeatures(s,lag=2,dropna=True):\n",
        "    #Builds a new DataFrame to facilitate regressing over all possible lagged features'''\n",
        "    if type(s) is pd.DataFrame:\n",
        "        new_dict={}\n",
        "        for l in range(lag,0,-1):\n",
        "            #new_dict[col_name]=s[col_name]\n",
        "            # create lagged Series\n",
        "            for col_name in s:\n",
        "                new_dict['%s_lag%d' %(col_name,l)]=s[col_name].shift(l)\n",
        "        for col_name in s:\n",
        "            new_dict[col_name]=s[col_name]\n",
        "        res=pd.DataFrame(new_dict,index=s.index)\n",
        "        #print(res.head())\n",
        "\n",
        "    elif type(s) is pd.Series:\n",
        "        the_range=range(lag+1)\n",
        "        res=pd.concat([s.shift(i) for i in the_range],axis=1)\n",
        "        res.columns=['lag_%d' %i for i in the_range]\n",
        "    else:\n",
        "        print('Only works for DataFrame or Series')\n",
        "        return None\n",
        "    if dropna:\n",
        "        return res.dropna()\n",
        "    else:\n",
        "        return res "
      ],
      "execution_count": null,
      "outputs": []
    },
    {
      "cell_type": "code",
      "metadata": {
        "id": "6cMbepYc6wgw"
      },
      "source": [
        "def create_data(data,lag):\n",
        "    #o_data = read_csv('NLIC_stock.csv', header=0)\n",
        "    #data['Date'] = pd.to_datetime(o_data['Date'])\n",
        "    #mask = (data['Date'] > '2011-11-11') & (data['Date'] <= '2018-12-30')\n",
        "    #t_data=data.loc[mask]\n",
        "    t_data= data.drop(columns=['Symbol'])\n",
        "    t_data.set_index(['Date'], inplace=True)\n",
        "    t_data=t_data.drop(columns=['Open','High','Vol','Low'])\n",
        "    res=buildLaggedFeatures(t_data,lag,dropna=True)\n",
        "    res=res.drop(columns=['Close'])\n",
        "    #print(res.head())\n",
        "    return res  "
      ],
      "execution_count": null,
      "outputs": []
    },
    {
      "cell_type": "code",
      "metadata": {
        "id": "HmZ7SlTc6wgw"
      },
      "source": [
        "def create_yvalues(df,lead):\n",
        "    dataY = []\n",
        "    #print(df.head())\n",
        "    for i in range(len(df)-lead):\n",
        "        dataY.append(df[i:(i+lead)])\n",
        "    return np.array(dataY)"
      ],
      "execution_count": null,
      "outputs": []
    },
    {
      "cell_type": "code",
      "metadata": {
        "id": "Jz6EJI9B6wgx",
        "colab": {
          "base_uri": "https://localhost:8080/"
        },
        "outputId": "ed30ac32-76d9-41a2-9885-2b880ae2ed52"
      },
      "source": [
        "data = pd.read_csv('/content/drive/MyDrive/NLIC_stock.csv', header=0)\n",
        "data['Date'] = pd.to_datetime(data['Date'])\n",
        "mask = (data['Date'] > '2011-11-11') & (data['Date'] <= '2018-12-31')\n",
        "t_data=data.loc[mask]\n",
        "lag=12\n",
        "prediction_days=6\n",
        "trainX= create_data(t_data,lag)\n",
        "tY= data[lag:len(trainX)+prediction_days+lag]\n",
        "#print(len(trainX),len(trainY))\n",
        "trainY=create_yvalues(tY['Close'],prediction_days)\n",
        "trainY=pd.DataFrame(trainY)\n",
        "print(trainX.head())\n",
        "\n",
        "\n",
        "print(trainY.head())\n",
        "\n",
        "#print(trainX.head(),trainY.head(5))\n",
        "#print(trainX.shape)\n",
        "\n"
      ],
      "execution_count": null,
      "outputs": [
        {
          "output_type": "stream",
          "text": [
            "            Close_lag12  Close_lag11  ...  Close_lag2  Close_lag1\n",
            "Date                                  ...                        \n",
            "2012-02-05        558.0        569.0  ...       631.0       631.0\n",
            "2012-02-06        569.0        615.0  ...       631.0       635.0\n",
            "2012-02-07        615.0        627.0  ...       635.0       647.0\n",
            "2012-02-08        627.0        627.0  ...       647.0       640.0\n",
            "2012-02-14        627.0        625.0  ...       640.0       640.0\n",
            "\n",
            "[5 rows x 12 columns]\n",
            "     0    1    2    3    4    5\n",
            "0  635  647  640  640  640  645\n",
            "1  647  640  640  640  645  641\n",
            "2  640  640  640  645  641  642\n",
            "3  640  640  645  641  642  654\n",
            "4  640  645  641  642  654  650\n"
          ],
          "name": "stdout"
        }
      ]
    },
    {
      "cell_type": "code",
      "metadata": {
        "colab": {
          "base_uri": "https://localhost:8080/"
        },
        "id": "I4rkK_wh6wgx",
        "outputId": "d20fff25-ff2a-4ce9-8e6b-a2d9d7bdeae9"
      },
      "source": [
        "P=create_data(data,lag)\n",
        "scaler1=MinMaxScaler()\n",
        "p=scaler1.fit_transform(P.values)\n",
        "train_x = scaler1.transform(trainX.values)\n",
        "# split into train and test sets\n",
        "scaler2=MinMaxScaler()\n",
        "#print(Q.tail())\n",
        "#q=scaler2.fit_transform(Q.values)\n",
        "\n",
        "#print(c)\n",
        "train_y=scaler2.fit_transform(trainY.values)\n",
        "train_x=np.array(train_x)\n",
        "train_y=np.array(train_y)\n",
        "c=scaler2.inverse_transform(train_y)\n",
        "#print(c[1512-12:])\n",
        "#print(train_y[1512-12:])\n",
        "\n",
        "train_x = np.reshape(train_x, (train_x.shape[0], train_x.shape[1], 1))\n",
        "train_y =np.reshape(train_y, (train_y.shape[0], train_y.shape[1], 1))\n",
        "print(len(train_x),len(train_y),train_x.shape,train_y.shape)"
      ],
      "execution_count": null,
      "outputs": [
        {
          "output_type": "stream",
          "text": [
            "1505 1505 (1505, 12, 1) (1505, 6, 1)\n"
          ],
          "name": "stdout"
        }
      ]
    },
    {
      "cell_type": "code",
      "metadata": {
        "id": "k0O79vli6wgy"
      },
      "source": [
        "from keras.optimizers import Adam\n",
        "from keras.layers.convolutional import Conv1D\n",
        "from keras.layers.convolutional import MaxPooling1D\n",
        "from keras.layers import Flatten\n",
        "batch_size = 32\n",
        "opt=Adam(\n",
        "    learning_rate=0.0015,\n",
        "    beta_1=0.9,\n",
        "    beta_2=0.99,\n",
        "    epsilon=1e-05,\n",
        "    amsgrad=True,\n",
        "    )\n",
        "model = Sequential()\n",
        "model.add(Conv1D(filters=256, kernel_size=3, activation='relu', input_shape=(lag,1)))\n",
        "model.add(Conv1D(filters=128, kernel_size=3, activation='relu'))\n",
        "#model.add(Conv1D(filters=32, kernel_size=3, activation='relu'))\n",
        "model.add(MaxPooling1D(pool_size=2))\n",
        "model.add(Flatten())\n",
        "model.add(RepeatVector(prediction_days))\n",
        "model.add(LSTM(200, activation='tanh', return_sequences=True))\n",
        "#model.add(LSTM(200, activation='tanh', return_sequences=True))\n",
        "model.add(TimeDistributed(Dense(100, activation='relu')))\n",
        "model.add(TimeDistributed(Dense(100, activation='relu')))\n",
        "model.add(TimeDistributed(Dense(1)))\n",
        "model.compile(loss='mse', optimizer=opt)\n"
      ],
      "execution_count": null,
      "outputs": []
    },
    {
      "cell_type": "code",
      "metadata": {
        "colab": {
          "base_uri": "https://localhost:8080/"
        },
        "id": "HeriJly46wgz",
        "outputId": "1936f579-90c5-410e-a2b9-81684362257c"
      },
      "source": [
        "%%time\n",
        "history=model.fit(train_x, train_y, epochs=150, batch_size=batch_size, shuffle=False)"
      ],
      "execution_count": null,
      "outputs": [
        {
          "output_type": "stream",
          "text": [
            "Epoch 1/150\n",
            "48/48 [==============================] - 2s 5ms/step - loss: 0.0224\n",
            "Epoch 2/150\n",
            "48/48 [==============================] - 0s 4ms/step - loss: 0.0469\n",
            "Epoch 3/150\n",
            "48/48 [==============================] - 0s 4ms/step - loss: 0.0414\n",
            "Epoch 4/150\n",
            "48/48 [==============================] - 0s 4ms/step - loss: 0.0219\n",
            "Epoch 5/150\n",
            "48/48 [==============================] - 0s 4ms/step - loss: 0.0660\n",
            "Epoch 6/150\n",
            "48/48 [==============================] - 0s 4ms/step - loss: 0.0562\n",
            "Epoch 7/150\n",
            "48/48 [==============================] - 0s 4ms/step - loss: 0.0399\n",
            "Epoch 8/150\n",
            "48/48 [==============================] - 0s 4ms/step - loss: 0.0172\n",
            "Epoch 9/150\n",
            "48/48 [==============================] - 0s 5ms/step - loss: 0.0074\n",
            "Epoch 10/150\n",
            "48/48 [==============================] - 0s 4ms/step - loss: 0.0055\n",
            "Epoch 11/150\n",
            "48/48 [==============================] - 0s 4ms/step - loss: 0.0052\n",
            "Epoch 12/150\n",
            "48/48 [==============================] - 0s 5ms/step - loss: 0.0052\n",
            "Epoch 13/150\n",
            "48/48 [==============================] - 0s 5ms/step - loss: 0.0054\n",
            "Epoch 14/150\n",
            "48/48 [==============================] - 0s 4ms/step - loss: 0.0055\n",
            "Epoch 15/150\n",
            "48/48 [==============================] - 0s 4ms/step - loss: 0.0055\n",
            "Epoch 16/150\n",
            "48/48 [==============================] - 0s 4ms/step - loss: 0.0052\n",
            "Epoch 17/150\n",
            "48/48 [==============================] - 0s 4ms/step - loss: 0.0050\n",
            "Epoch 18/150\n",
            "48/48 [==============================] - 0s 4ms/step - loss: 0.0047\n",
            "Epoch 19/150\n",
            "48/48 [==============================] - 0s 4ms/step - loss: 0.0045\n",
            "Epoch 20/150\n",
            "48/48 [==============================] - 0s 4ms/step - loss: 0.0043\n",
            "Epoch 21/150\n",
            "48/48 [==============================] - 0s 4ms/step - loss: 0.0042\n",
            "Epoch 22/150\n",
            "48/48 [==============================] - 0s 4ms/step - loss: 0.0040\n",
            "Epoch 23/150\n",
            "48/48 [==============================] - 0s 4ms/step - loss: 0.0039\n",
            "Epoch 24/150\n",
            "48/48 [==============================] - 0s 4ms/step - loss: 0.0038\n",
            "Epoch 25/150\n",
            "48/48 [==============================] - 0s 4ms/step - loss: 0.0039\n",
            "Epoch 26/150\n",
            "48/48 [==============================] - 0s 4ms/step - loss: 0.0038\n",
            "Epoch 27/150\n",
            "48/48 [==============================] - 0s 4ms/step - loss: 0.0036\n",
            "Epoch 28/150\n",
            "48/48 [==============================] - 0s 4ms/step - loss: 0.0036\n",
            "Epoch 29/150\n",
            "48/48 [==============================] - 0s 4ms/step - loss: 0.0035\n",
            "Epoch 30/150\n",
            "48/48 [==============================] - 0s 4ms/step - loss: 0.0034\n",
            "Epoch 31/150\n",
            "48/48 [==============================] - 0s 4ms/step - loss: 0.0034\n",
            "Epoch 32/150\n",
            "48/48 [==============================] - 0s 4ms/step - loss: 0.0033\n",
            "Epoch 33/150\n",
            "48/48 [==============================] - 0s 4ms/step - loss: 0.0033\n",
            "Epoch 34/150\n",
            "48/48 [==============================] - 0s 4ms/step - loss: 0.0032\n",
            "Epoch 35/150\n",
            "48/48 [==============================] - 0s 4ms/step - loss: 0.0032\n",
            "Epoch 36/150\n",
            "48/48 [==============================] - 0s 4ms/step - loss: 0.0032\n",
            "Epoch 37/150\n",
            "48/48 [==============================] - 0s 5ms/step - loss: 0.0032\n",
            "Epoch 38/150\n",
            "48/48 [==============================] - 0s 4ms/step - loss: 0.0032\n",
            "Epoch 39/150\n",
            "48/48 [==============================] - 0s 4ms/step - loss: 0.0031\n",
            "Epoch 40/150\n",
            "48/48 [==============================] - 0s 5ms/step - loss: 0.0031\n",
            "Epoch 41/150\n",
            "48/48 [==============================] - 0s 4ms/step - loss: 0.0031\n",
            "Epoch 42/150\n",
            "48/48 [==============================] - 0s 4ms/step - loss: 0.0030\n",
            "Epoch 43/150\n",
            "48/48 [==============================] - 0s 4ms/step - loss: 0.0031\n",
            "Epoch 44/150\n",
            "48/48 [==============================] - 0s 4ms/step - loss: 0.0031\n",
            "Epoch 45/150\n",
            "48/48 [==============================] - 0s 4ms/step - loss: 0.0031\n",
            "Epoch 46/150\n",
            "48/48 [==============================] - 0s 4ms/step - loss: 0.0030\n",
            "Epoch 47/150\n",
            "48/48 [==============================] - 0s 5ms/step - loss: 0.0030\n",
            "Epoch 48/150\n",
            "48/48 [==============================] - 0s 4ms/step - loss: 0.0030\n",
            "Epoch 49/150\n",
            "48/48 [==============================] - 0s 4ms/step - loss: 0.0030\n",
            "Epoch 50/150\n",
            "48/48 [==============================] - 0s 4ms/step - loss: 0.0030\n",
            "Epoch 51/150\n",
            "48/48 [==============================] - 0s 4ms/step - loss: 0.0029\n",
            "Epoch 52/150\n",
            "48/48 [==============================] - 0s 5ms/step - loss: 0.0029\n",
            "Epoch 53/150\n",
            "48/48 [==============================] - 0s 4ms/step - loss: 0.0029\n",
            "Epoch 54/150\n",
            "48/48 [==============================] - 0s 4ms/step - loss: 0.0029\n",
            "Epoch 55/150\n",
            "48/48 [==============================] - 0s 4ms/step - loss: 0.0029\n",
            "Epoch 56/150\n",
            "48/48 [==============================] - 0s 5ms/step - loss: 0.0029\n",
            "Epoch 57/150\n",
            "48/48 [==============================] - 0s 4ms/step - loss: 0.0029\n",
            "Epoch 58/150\n",
            "48/48 [==============================] - 0s 4ms/step - loss: 0.0029\n",
            "Epoch 59/150\n",
            "48/48 [==============================] - 0s 4ms/step - loss: 0.0029\n",
            "Epoch 60/150\n",
            "48/48 [==============================] - 0s 4ms/step - loss: 0.0029\n",
            "Epoch 61/150\n",
            "48/48 [==============================] - 0s 4ms/step - loss: 0.0029\n",
            "Epoch 62/150\n",
            "48/48 [==============================] - 0s 4ms/step - loss: 0.0029\n",
            "Epoch 63/150\n",
            "48/48 [==============================] - 0s 4ms/step - loss: 0.0029\n",
            "Epoch 64/150\n",
            "48/48 [==============================] - 0s 4ms/step - loss: 0.0029\n",
            "Epoch 65/150\n",
            "48/48 [==============================] - 0s 4ms/step - loss: 0.0029\n",
            "Epoch 66/150\n",
            "48/48 [==============================] - 0s 4ms/step - loss: 0.0029\n",
            "Epoch 67/150\n",
            "48/48 [==============================] - 0s 4ms/step - loss: 0.0029\n",
            "Epoch 68/150\n",
            "48/48 [==============================] - 0s 4ms/step - loss: 0.0029\n",
            "Epoch 69/150\n",
            "48/48 [==============================] - 0s 4ms/step - loss: 0.0030\n",
            "Epoch 70/150\n",
            "48/48 [==============================] - 0s 4ms/step - loss: 0.0030\n",
            "Epoch 71/150\n",
            "48/48 [==============================] - 0s 4ms/step - loss: 0.0030\n",
            "Epoch 72/150\n",
            "48/48 [==============================] - 0s 4ms/step - loss: 0.0030\n",
            "Epoch 73/150\n",
            "48/48 [==============================] - 0s 5ms/step - loss: 0.0031\n",
            "Epoch 74/150\n",
            "48/48 [==============================] - 0s 5ms/step - loss: 0.0031\n",
            "Epoch 75/150\n",
            "48/48 [==============================] - 0s 4ms/step - loss: 0.0032\n",
            "Epoch 76/150\n",
            "48/48 [==============================] - 0s 4ms/step - loss: 0.0032\n",
            "Epoch 77/150\n",
            "48/48 [==============================] - 0s 4ms/step - loss: 0.0033\n",
            "Epoch 78/150\n",
            "48/48 [==============================] - 0s 4ms/step - loss: 0.0033\n",
            "Epoch 79/150\n",
            "48/48 [==============================] - 0s 5ms/step - loss: 0.0034\n",
            "Epoch 80/150\n",
            "48/48 [==============================] - 0s 4ms/step - loss: 0.0035\n",
            "Epoch 81/150\n",
            "48/48 [==============================] - 0s 5ms/step - loss: 0.0035\n",
            "Epoch 82/150\n",
            "48/48 [==============================] - 0s 4ms/step - loss: 0.0036\n",
            "Epoch 83/150\n",
            "48/48 [==============================] - 0s 4ms/step - loss: 0.0037\n",
            "Epoch 84/150\n",
            "48/48 [==============================] - 0s 4ms/step - loss: 0.0039\n",
            "Epoch 85/150\n",
            "48/48 [==============================] - 0s 4ms/step - loss: 0.0040\n",
            "Epoch 86/150\n",
            "48/48 [==============================] - 0s 4ms/step - loss: 0.0042\n",
            "Epoch 87/150\n",
            "48/48 [==============================] - 0s 4ms/step - loss: 0.0043\n",
            "Epoch 88/150\n",
            "48/48 [==============================] - 0s 4ms/step - loss: 0.0048\n",
            "Epoch 89/150\n",
            "48/48 [==============================] - 0s 4ms/step - loss: 0.0051\n",
            "Epoch 90/150\n",
            "48/48 [==============================] - 0s 5ms/step - loss: 0.0055\n",
            "Epoch 91/150\n",
            "48/48 [==============================] - 0s 4ms/step - loss: 0.0058\n",
            "Epoch 92/150\n",
            "48/48 [==============================] - 0s 4ms/step - loss: 0.0063\n",
            "Epoch 93/150\n",
            "48/48 [==============================] - 0s 4ms/step - loss: 0.0071\n",
            "Epoch 94/150\n",
            "48/48 [==============================] - 0s 4ms/step - loss: 0.0080\n",
            "Epoch 95/150\n",
            "48/48 [==============================] - 0s 4ms/step - loss: 0.0092\n",
            "Epoch 96/150\n",
            "48/48 [==============================] - 0s 4ms/step - loss: 0.0102\n",
            "Epoch 97/150\n",
            "48/48 [==============================] - 0s 4ms/step - loss: 0.0116\n",
            "Epoch 98/150\n",
            "48/48 [==============================] - 0s 4ms/step - loss: 0.0136\n",
            "Epoch 99/150\n",
            "48/48 [==============================] - 0s 5ms/step - loss: 0.0157\n",
            "Epoch 100/150\n",
            "48/48 [==============================] - 0s 5ms/step - loss: 0.0178\n",
            "Epoch 101/150\n",
            "48/48 [==============================] - 0s 4ms/step - loss: 0.0180\n",
            "Epoch 102/150\n",
            "48/48 [==============================] - 0s 4ms/step - loss: 0.0169\n",
            "Epoch 103/150\n",
            "48/48 [==============================] - 0s 4ms/step - loss: 0.0150\n",
            "Epoch 104/150\n",
            "48/48 [==============================] - 0s 4ms/step - loss: 0.0138\n",
            "Epoch 105/150\n",
            "48/48 [==============================] - 0s 4ms/step - loss: 0.0114\n",
            "Epoch 106/150\n",
            "48/48 [==============================] - 0s 4ms/step - loss: 0.0102\n",
            "Epoch 107/150\n",
            "48/48 [==============================] - 0s 4ms/step - loss: 0.0090\n",
            "Epoch 108/150\n",
            "48/48 [==============================] - 0s 5ms/step - loss: 0.0081\n",
            "Epoch 109/150\n",
            "48/48 [==============================] - 0s 4ms/step - loss: 0.0074\n",
            "Epoch 110/150\n",
            "48/48 [==============================] - 0s 4ms/step - loss: 0.0067\n",
            "Epoch 111/150\n",
            "48/48 [==============================] - 0s 5ms/step - loss: 0.0062\n",
            "Epoch 112/150\n",
            "48/48 [==============================] - 0s 4ms/step - loss: 0.0058\n",
            "Epoch 113/150\n",
            "48/48 [==============================] - 0s 4ms/step - loss: 0.0054\n",
            "Epoch 114/150\n",
            "48/48 [==============================] - 0s 4ms/step - loss: 0.0051\n",
            "Epoch 115/150\n",
            "48/48 [==============================] - 0s 5ms/step - loss: 0.0049\n",
            "Epoch 116/150\n",
            "48/48 [==============================] - 0s 4ms/step - loss: 0.0046\n",
            "Epoch 117/150\n",
            "48/48 [==============================] - 0s 4ms/step - loss: 0.0044\n",
            "Epoch 118/150\n",
            "48/48 [==============================] - 0s 4ms/step - loss: 0.0042\n",
            "Epoch 119/150\n",
            "48/48 [==============================] - 0s 4ms/step - loss: 0.0041\n",
            "Epoch 120/150\n",
            "48/48 [==============================] - 0s 5ms/step - loss: 0.0040\n",
            "Epoch 121/150\n",
            "48/48 [==============================] - 0s 4ms/step - loss: 0.0039\n",
            "Epoch 122/150\n",
            "48/48 [==============================] - 0s 4ms/step - loss: 0.0038\n",
            "Epoch 123/150\n",
            "48/48 [==============================] - 0s 5ms/step - loss: 0.0037\n",
            "Epoch 124/150\n",
            "48/48 [==============================] - 0s 4ms/step - loss: 0.0036\n",
            "Epoch 125/150\n",
            "48/48 [==============================] - 0s 4ms/step - loss: 0.0036\n",
            "Epoch 126/150\n",
            "48/48 [==============================] - 0s 5ms/step - loss: 0.0035\n",
            "Epoch 127/150\n",
            "48/48 [==============================] - 0s 5ms/step - loss: 0.0035\n",
            "Epoch 128/150\n",
            "48/48 [==============================] - 0s 4ms/step - loss: 0.0034\n",
            "Epoch 129/150\n",
            "48/48 [==============================] - 0s 4ms/step - loss: 0.0034\n",
            "Epoch 130/150\n",
            "48/48 [==============================] - 0s 5ms/step - loss: 0.0034\n",
            "Epoch 131/150\n",
            "48/48 [==============================] - 0s 5ms/step - loss: 0.0033\n",
            "Epoch 132/150\n",
            "48/48 [==============================] - 0s 4ms/step - loss: 0.0032\n",
            "Epoch 133/150\n",
            "48/48 [==============================] - 0s 5ms/step - loss: 0.0032\n",
            "Epoch 134/150\n",
            "48/48 [==============================] - 0s 4ms/step - loss: 0.0032\n",
            "Epoch 135/150\n",
            "48/48 [==============================] - 0s 4ms/step - loss: 0.0032\n",
            "Epoch 136/150\n",
            "48/48 [==============================] - 0s 4ms/step - loss: 0.0031\n",
            "Epoch 137/150\n",
            "48/48 [==============================] - 0s 4ms/step - loss: 0.0031\n",
            "Epoch 138/150\n",
            "48/48 [==============================] - 0s 4ms/step - loss: 0.0031\n",
            "Epoch 139/150\n",
            "48/48 [==============================] - 0s 5ms/step - loss: 0.0031\n",
            "Epoch 140/150\n",
            "48/48 [==============================] - 0s 4ms/step - loss: 0.0030\n",
            "Epoch 141/150\n",
            "48/48 [==============================] - 0s 5ms/step - loss: 0.0030\n",
            "Epoch 142/150\n",
            "48/48 [==============================] - 0s 4ms/step - loss: 0.0030\n",
            "Epoch 143/150\n",
            "48/48 [==============================] - 0s 5ms/step - loss: 0.0030\n",
            "Epoch 144/150\n",
            "48/48 [==============================] - 0s 4ms/step - loss: 0.0029\n",
            "Epoch 145/150\n",
            "48/48 [==============================] - 0s 5ms/step - loss: 0.0029\n",
            "Epoch 146/150\n",
            "48/48 [==============================] - 0s 5ms/step - loss: 0.0030\n",
            "Epoch 147/150\n",
            "48/48 [==============================] - 0s 4ms/step - loss: 0.0029\n",
            "Epoch 148/150\n",
            "48/48 [==============================] - 0s 5ms/step - loss: 0.0028\n",
            "Epoch 149/150\n",
            "48/48 [==============================] - 0s 4ms/step - loss: 0.0029\n",
            "Epoch 150/150\n",
            "48/48 [==============================] - 0s 5ms/step - loss: 0.0028\n",
            "CPU times: user 39.8 s, sys: 3.69 s, total: 43.5 s\n",
            "Wall time: 33.8 s\n"
          ],
          "name": "stdout"
        }
      ]
    },
    {
      "cell_type": "code",
      "metadata": {
        "id": "mMejAElI6wg1"
      },
      "source": [
        "def get_prediction(y,scaler2):\n",
        "  Out=model.predict(y,verbose=0)\n",
        "  #print(Out)\n",
        "  Out=Out.reshape(1,-1)\n",
        "  Out=  scaler2.inverse_transform(Out)\n",
        "  Out=Out.reshape(-1,1)\n",
        "  output_7=pd.DataFrame(Out)  \n",
        "  return output_7\n"
      ],
      "execution_count": null,
      "outputs": []
    },
    {
      "cell_type": "code",
      "metadata": {
        "colab": {
          "base_uri": "https://localhost:8080/"
        },
        "id": "vhcfUe1uxdtL",
        "outputId": "77d680df-7148-432c-8e30-26a0f35ad15f"
      },
      "source": [
        "predict_after=\"2019-1-19\"\n",
        "Y=data.copy\n",
        "test_data=data.loc[data['Date'] < predict_after].tail(lag+1)\n",
        "print(test_data)\n",
        "output_test_data=data.loc[data['Date'] >= predict_after].head(prediction_days)\n",
        "output_test_data.set_index(['Date'],inplace=True)\n",
        "output_test_close=output_test_data['Close']\n",
        "X=create_data(test_data,lag)\n",
        "X=scaler1.transform(X.values)\n",
        "X = np.reshape(X, (1,X.shape[1], X.shape[0]))\n",
        "model_output=get_prediction(X,scaler2)\n",
        "model_output.set_index(output_test_close.index,inplace=True)\n",
        "model_output.rename(columns={0:'Close'},inplace=True)\n",
        "output_test_close=pd.DataFrame(output_test_close)\n",
        "print(model_output)\n",
        "print(output_test_close)\n",
        "\n"
      ],
      "execution_count": null,
      "outputs": [
        {
          "output_type": "stream",
          "text": [
            "     Symbol       Date  Open  High   Low  Close    Vol\n",
            "1517   NLIC 2019-01-01  1115  1132  1102   1109  10868\n",
            "1518   NLIC 2019-01-02  1110  1110  1093   1093  12927\n",
            "1519   NLIC 2019-01-03  1077  1115  1077   1112  12388\n",
            "1520   NLIC 2019-01-06  1099  1100  1084   1088  10089\n",
            "1521   NLIC 2019-01-07  1109  1109  1090   1102  13752\n",
            "1522   NLIC 2019-01-08  1095  1107  1095   1098   7497\n",
            "1523   NLIC 2019-01-09  1093  1110  1093   1100  12067\n",
            "1524   NLIC 2019-01-10  1091  1104  1091   1099  11524\n",
            "1525   NLIC 2019-01-13  1085  1105  1085   1100  14601\n",
            "1526   NLIC 2019-01-14  1100  1105  1088   1104   4326\n",
            "1527   NLIC 2019-01-15  1096  1140  1096   1140  16269\n",
            "1528   NLIC 2019-01-16  1140  1150  1120   1129   9966\n",
            "1529   NLIC 2019-01-17  1111  1135  1111   1120   4242\n",
            "                  Close\n",
            "Date                   \n",
            "2019-01-20  1089.151855\n",
            "2019-01-21  1058.251465\n",
            "2019-01-22  1073.011841\n",
            "2019-01-23  1064.752197\n",
            "2019-01-24  1056.426270\n",
            "2019-01-27  1047.949829\n",
            "            Close\n",
            "Date             \n",
            "2019-01-20   1114\n",
            "2019-01-21   1096\n",
            "2019-01-22   1105\n",
            "2019-01-23   1092\n",
            "2019-01-24   1100\n",
            "2019-01-27   1090\n"
          ],
          "name": "stdout"
        }
      ]
    },
    {
      "cell_type": "code",
      "metadata": {
        "id": "UM4AUKie6wg2"
      },
      "source": [
        "def error(X,Y):\n",
        "    Close_error= ((X['Close'] - Y['Close']) ** 2).mean() ** .5\n",
        "    print(\"Close_error =\",Close_error)"
      ],
      "execution_count": null,
      "outputs": []
    },
    {
      "cell_type": "code",
      "metadata": {
        "colab": {
          "base_uri": "https://localhost:8080/"
        },
        "id": "nEhdiooZ6wg2",
        "outputId": "0902f1b6-b5a7-4924-bc2a-581ed6ad519d"
      },
      "source": [
        "error(output_test_close,model_output)"
      ],
      "execution_count": null,
      "outputs": [
        {
          "output_type": "stream",
          "text": [
            "Close_error = 35.29625602004657\n"
          ],
          "name": "stdout"
        }
      ]
    },
    {
      "cell_type": "code",
      "metadata": {
        "colab": {
          "base_uri": "https://localhost:8080/",
          "height": 462
        },
        "id": "KYjcE7116wg6",
        "outputId": "5c91722e-2c58-4958-eab7-5273af4c55f0"
      },
      "source": [
        "real= output_test_close\n",
        "predicted= model_output\n",
        "plt.rcParams.update({'font.size': 22})\n",
        "plt.figure(figsize=(30,10))\n",
        "plt.plot(real, color = 'red',linewidth=3, label = 'real value')\n",
        "plt.plot(predicted, color = 'blue', linewidth=5,label = 'predicted value')\n",
        "plt.title('Stock Close forecasted values vs real values')\n",
        "plt.xlabel('DATE')\n",
        "plt.ylabel('price of stok per Kitta in Ruopees')\n",
        "plt.legend()\n",
        "plt.show()"
      ],
      "execution_count": null,
      "outputs": [
        {
          "output_type": "display_data",
          "data": {
            "image/png": "[encoded data removed]",
            "text/plain": [
              "<Figure size 2160x720 with 1 Axes>"
            ]
          },
          "metadata": {
            "tags": [],
            "needs_background": "light"
          }
        }
      ]
    },
    {
      "cell_type": "code",
      "metadata": {
        "id": "QxHziaqI6wg7"
      },
      "source": [
        "'''Test model 1\n",
        "model = Sequential()\n",
        "model.add(LSTM(256, activation='tanh', input_shape=(5*lag, 1)))\n",
        "model.add(RepeatVector(prediction_days))\n",
        "model.add(LSTM(200, activation='tanh', return_sequences=True))\n",
        "model.add(TimeDistributed(Dense(100, activation='relu')))\n",
        "model.add(TimeDistributed(Dense(32, activation='relu')))\n",
        "model.add(TimeDistributed(Dense(1)))'''"
      ],
      "execution_count": null,
      "outputs": []
    },
    {
      "cell_type": "code",
      "metadata": {
        "id": "17YvWXHW8-NA"
      },
      "source": [
        "'''\n",
        "Test model 2\n",
        "from keras.optimizers import Adam\n",
        "from keras.layers.convolutional import Conv1D\n",
        "from keras.layers.convolutional import MaxPooling1D\n",
        "from keras.layers import Flatten\n",
        "batch_size = 32\n",
        "opt=Adam(\n",
        "    learning_rate=0.0015,\n",
        "    beta_1=0.9,\n",
        "    beta_2=0.99,\n",
        "    epsilon=1e-05,\n",
        "    amsgrad=True,\n",
        "    )\n",
        "model = Sequential()\n",
        "#model.add(Conv1D(filters=256, kernel_size=3, activation='relu', input_shape=(lag,1)))\n",
        "model.add(Conv1D(filters=128, kernel_size=3, activation='relu'))\n",
        "model.add(Conv1D(filters=32, kernel_size=3, activation='relu'))\n",
        "model.add(MaxPooling1D(pool_size=2))\n",
        "model.add(Flatten())\n",
        "model.add(RepeatVector(prediction_days))\n",
        "model.add(LSTM(200, activation='tanh', return_sequences=True))\n",
        "model.add(LSTM(200, activation='tanh', return_sequences=True))\n",
        "model.add(TimeDistributed(Dense(100, activation='relu')))\n",
        "model.add(TimeDistributed(Dense(100, activation='relu')))\n",
        "model.add(TimeDistributed(Dense(1)))\n",
        "model.compile(loss='mse', optimizer=opt)'''"
      ],
      "execution_count": null,
      "outputs": []
    },
    {
      "cell_type": "code",
      "metadata": {
        "id": "9Sk1Gp3lCNrm"
      },
      "source": [
        "'''\n",
        "Test Model 3\n",
        "from keras.optimizers import Adam\n",
        "from keras.layers.convolutional import Conv1D\n",
        "from keras.layers.convolutional import MaxPooling1D\n",
        "from keras.layers import Flatten\n",
        "batch_size = 32\n",
        "opt=Adam(\n",
        "    learning_rate=0.0015,\n",
        "    beta_1=0.9,\n",
        "    beta_2=0.99,\n",
        "    epsilon=1e-05,\n",
        "    amsgrad=True,\n",
        "    )\n",
        "model = Sequential()\n",
        "model.add(Conv1D(filters=256, kernel_size=3, activation='relu', input_shape=(lag,1)))\n",
        "model.add(Conv1D(filters=128, kernel_size=3, activation='relu'))\n",
        "#model.add(Conv1D(filters=32, kernel_size=3, activation='relu'))\n",
        "model.add(MaxPooling1D(pool_size=2))\n",
        "model.add(Flatten())\n",
        "model.add(RepeatVector(prediction_days))\n",
        "model.add(LSTM(200, activation='tanh', return_sequences=True))\n",
        "#model.add(LSTM(200, activation='tanh', return_sequences=True))\n",
        "model.add(TimeDistributed(Dense(100, activation='relu')))\n",
        "model.add(TimeDistributed(Dense(100, activation='relu')))\n",
        "model.add(TimeDistributed(Dense(1)))\n",
        "model.compile(loss='mse', optimizer=opt)\n",
        "'''"
      ],
      "execution_count": null,
      "outputs": []
    }
  ]
}