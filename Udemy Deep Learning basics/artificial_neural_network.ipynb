{
 "cells": [
  {
   "cell_type": "markdown",
   "metadata": {
    "colab_type": "text",
    "id": "lP6JLo1tGNBg"
   },
   "source": [
    "# Artificial Neural Network"
   ]
  },
  {
   "cell_type": "code",
   "execution_count": 1,
   "metadata": {
    "colab": {},
    "colab_type": "code",
    "id": "MxkJoQBkUIHC"
   },
   "outputs": [],
   "source": [
    "#importing libraries\n",
    "import numpy as np\n",
    "import pandas as pd\n",
    "import tensorflow as tf"
   ]
  },
  {
   "cell_type": "code",
   "execution_count": 2,
   "metadata": {
    "colab": {
     "base_uri": "https://localhost:8080/",
     "height": 34
    },
    "colab_type": "code",
    "executionInfo": {
     "elapsed": 2400,
     "status": "ok",
     "timestamp": 1590257449959,
     "user": {
      "displayName": "Hadelin de Ponteves",
      "photoUrl": "https://lh3.googleusercontent.com/a-/AOh14GhEuXdT7eQweUmRPW8_laJuPggSK6hfvpl5a6WBaA=s64",
      "userId": "15047218817161520419"
     },
     "user_tz": -240
    },
    "id": "ZaTwK7ojXr2F",
    "outputId": "0b27a96d-d11a-43e8-ab4b-87c1f01896fe"
   },
   "outputs": [
    {
     "data": {
      "text/plain": [
       "'2.1.0'"
      ]
     },
     "execution_count": 2,
     "metadata": {},
     "output_type": "execute_result"
    }
   ],
   "source": [
    "tf.__version__"
   ]
  },
  {
   "cell_type": "code",
   "execution_count": 3,
   "metadata": {
    "colab": {},
    "colab_type": "code",
    "id": "MXUkhkMfU4wq"
   },
   "outputs": [],
   "source": [
    "#importing dataset\n",
    "dataset = pd.read_csv('Churn_Modelling.csv')\n",
    "X = dataset.iloc[:, 3:-1].values\n",
    "#Dependent variables\n",
    "y = dataset.iloc[:, -1].values\n",
    "#independent variables"
   ]
  },
  {
   "cell_type": "code",
   "execution_count": 4,
   "metadata": {
    "colab": {
     "base_uri": "https://localhost:8080/",
     "height": 137
    },
    "colab_type": "code",
    "executionInfo": {
     "elapsed": 2396,
     "status": "ok",
     "timestamp": 1590257449961,
     "user": {
      "displayName": "Hadelin de Ponteves",
      "photoUrl": "https://lh3.googleusercontent.com/a-/AOh14GhEuXdT7eQweUmRPW8_laJuPggSK6hfvpl5a6WBaA=s64",
      "userId": "15047218817161520419"
     },
     "user_tz": -240
    },
    "id": "VYP9cQTWbzuI",
    "outputId": "797e7a64-9bac-436a-8c9c-94437e5e7587"
   },
   "outputs": [
    {
     "name": "stdout",
     "output_type": "stream",
     "text": [
      "[[619 'France' 'Female' ... 1 1 101348.88]\n",
      " [608 'Spain' 'Female' ... 0 1 112542.58]\n",
      " [502 'France' 'Female' ... 1 0 113931.57]\n",
      " ...\n",
      " [709 'France' 'Female' ... 0 1 42085.58]\n",
      " [772 'Germany' 'Male' ... 1 0 92888.52]\n",
      " [792 'France' 'Female' ... 1 0 38190.78]]\n"
     ]
    }
   ],
   "source": [
    "print(X)"
   ]
  },
  {
   "cell_type": "code",
   "execution_count": 5,
   "metadata": {
    "colab": {
     "base_uri": "https://localhost:8080/",
     "height": 34
    },
    "colab_type": "code",
    "executionInfo": {
     "elapsed": 2391,
     "status": "ok",
     "timestamp": 1590257449961,
     "user": {
      "displayName": "Hadelin de Ponteves",
      "photoUrl": "https://lh3.googleusercontent.com/a-/AOh14GhEuXdT7eQweUmRPW8_laJuPggSK6hfvpl5a6WBaA=s64",
      "userId": "15047218817161520419"
     },
     "user_tz": -240
    },
    "id": "38vKGE6Nb2RR",
    "outputId": "a815e42a-e0dd-4cb5-ab97-b17ead98fbc3"
   },
   "outputs": [
    {
     "name": "stdout",
     "output_type": "stream",
     "text": [
      "[1 0 1 ... 1 1 0]\n"
     ]
    }
   ],
   "source": [
    "print(y)"
   ]
  },
  {
   "cell_type": "code",
   "execution_count": 6,
   "metadata": {
    "colab": {},
    "colab_type": "code",
    "id": "PxVKWXxLbczC"
   },
   "outputs": [],
   "source": [
    "#Label Encoding the \"Gender\" column\n",
    "from sklearn.preprocessing import LabelEncoder\n",
    "le = LabelEncoder()\n",
    "X[:, 2] = le.fit_transform(X[:, 2])"
   ]
  },
  {
   "cell_type": "code",
   "execution_count": 7,
   "metadata": {
    "colab": {
     "base_uri": "https://localhost:8080/",
     "height": 137
    },
    "colab_type": "code",
    "executionInfo": {
     "elapsed": 2719,
     "status": "ok",
     "timestamp": 1590257450295,
     "user": {
      "displayName": "Hadelin de Ponteves",
      "photoUrl": "https://lh3.googleusercontent.com/a-/AOh14GhEuXdT7eQweUmRPW8_laJuPggSK6hfvpl5a6WBaA=s64",
      "userId": "15047218817161520419"
     },
     "user_tz": -240
    },
    "id": "-M1KboxFb6OO",
    "outputId": "e2b8c7e8-0cbc-4cdf-f4eb-7f0853a00b88"
   },
   "outputs": [
    {
     "name": "stdout",
     "output_type": "stream",
     "text": [
      "[[619 'France' 0 ... 1 1 101348.88]\n",
      " [608 'Spain' 0 ... 0 1 112542.58]\n",
      " [502 'France' 0 ... 1 0 113931.57]\n",
      " ...\n",
      " [709 'France' 0 ... 0 1 42085.58]\n",
      " [772 'Germany' 1 ... 1 0 92888.52]\n",
      " [792 'France' 0 ... 1 0 38190.78]]\n"
     ]
    }
   ],
   "source": [
    "print(X)"
   ]
  },
  {
   "cell_type": "code",
   "execution_count": 9,
   "metadata": {
    "colab": {},
    "colab_type": "code",
    "id": "AMXC8-KMVirw"
   },
   "outputs": [],
   "source": [
    "#One Hot Encoding the \"Geography\" column\n",
    "from sklearn.compose import ColumnTransformer\n",
    "from sklearn.preprocessing import OneHotEncoder\n",
    "ct = ColumnTransformer(transformers=[('encoder', OneHotEncoder(), [1])], remainder='passthrough')\n",
    "X = np.array(ct.fit_transform(X))"
   ]
  },
  {
   "cell_type": "code",
   "execution_count": 10,
   "metadata": {
    "colab": {
     "base_uri": "https://localhost:8080/",
     "height": 137
    },
    "colab_type": "code",
    "executionInfo": {
     "elapsed": 2713,
     "status": "ok",
     "timestamp": 1590257450296,
     "user": {
      "displayName": "Hadelin de Ponteves",
      "photoUrl": "https://lh3.googleusercontent.com/a-/AOh14GhEuXdT7eQweUmRPW8_laJuPggSK6hfvpl5a6WBaA=s64",
      "userId": "15047218817161520419"
     },
     "user_tz": -240
    },
    "id": "ZcxwEon-b8nV",
    "outputId": "23a98af4-5e33-4b26-c27b-f06e3c5d2baf"
   },
   "outputs": [
    {
     "name": "stdout",
     "output_type": "stream",
     "text": [
      "[[0.0 0.0 1.0 608 0 41 1 83807.86 1 0 1 112542.58]\n",
      " [1.0 0.0 0.0 502 0 42 8 159660.8 3 1 0 113931.57]\n",
      " [1.0 0.0 0.0 699 0 39 1 0.0 2 0 0 93826.63]\n",
      " [0.0 0.0 1.0 850 0 43 2 125510.82 1 1 1 79084.1]]\n"
     ]
    }
   ],
   "source": [
    "print(X[1:5])"
   ]
  },
  {
   "cell_type": "code",
   "execution_count": 11,
   "metadata": {
    "colab": {},
    "colab_type": "code",
    "id": "Z-TDt0Y_XEfc"
   },
   "outputs": [],
   "source": [
    "#Splitting the dataset into the Training set and Test set\n",
    "from sklearn.model_selection import train_test_split\n",
    "X_train, X_test, y_train, y_test = train_test_split(X, y, test_size = 0.2, random_state = 0)"
   ]
  },
  {
   "cell_type": "code",
   "execution_count": 12,
   "metadata": {
    "colab": {},
    "colab_type": "code",
    "id": "ViCrE00rV8Sk"
   },
   "outputs": [],
   "source": [
    "#Scaling the feature vector\n",
    "from sklearn.preprocessing import StandardScaler\n",
    "sc = StandardScaler()\n",
    "X_train = sc.fit_transform(X_train)\n",
    "X_test = sc.transform(X_test)"
   ]
  },
  {
   "cell_type": "code",
   "execution_count": 13,
   "metadata": {
    "colab": {},
    "colab_type": "code",
    "id": "3dtrScHxXQox"
   },
   "outputs": [],
   "source": [
    "#initializing ANN\n",
    "ann = tf.keras.models.Sequential()"
   ]
  },
  {
   "cell_type": "code",
   "execution_count": 14,
   "metadata": {
    "colab": {},
    "colab_type": "code",
    "id": "bppGycBXYCQr"
   },
   "outputs": [],
   "source": [
    "#initialize hidden layers\n",
    "ann.add(tf.keras.layers.Dense(units=6, activation='relu'))\n",
    "ann.add(tf.keras.layers.Dense(units=6, activation='relu'))"
   ]
  },
  {
   "cell_type": "code",
   "execution_count": 16,
   "metadata": {
    "colab": {},
    "colab_type": "code",
    "id": "Cn3x41RBYfvY"
   },
   "outputs": [],
   "source": [
    "#output layer the units should be equall to number of outputs\n",
    "ann.add(tf.keras.layers.Dense(units=1, activation='sigmoid'))"
   ]
  },
  {
   "cell_type": "code",
   "execution_count": 17,
   "metadata": {
    "colab": {},
    "colab_type": "code",
    "id": "fG3RrwDXZEaS"
   },
   "outputs": [],
   "source": [
    "#compile to add optimizer, loss and metrics\n",
    "ann.compile(optimizer = 'adam', loss = 'binary_crossentropy', metrics = ['accuracy'])"
   ]
  },
  {
   "cell_type": "code",
   "execution_count": 18,
   "metadata": {
    "colab": {
     "base_uri": "https://localhost:8080/",
     "height": 1000
    },
    "colab_type": "code",
    "executionInfo": {
     "elapsed": 33685,
     "status": "ok",
     "timestamp": 1590257481284,
     "user": {
      "displayName": "Hadelin de Ponteves",
      "photoUrl": "https://lh3.googleusercontent.com/a-/AOh14GhEuXdT7eQweUmRPW8_laJuPggSK6hfvpl5a6WBaA=s64",
      "userId": "15047218817161520419"
     },
     "user_tz": -240
    },
    "id": "nHZ-LKv_ZRb3",
    "outputId": "718cc4b0-b5aa-40f0-9b20-d3d31730a531"
   },
   "outputs": [
    {
     "name": "stdout",
     "output_type": "stream",
     "text": [
      "Train on 8000 samples\n",
      "Epoch 1/100\n",
      "8000/8000 [==============================] - 3s 325us/sample - loss: 0.5955 - accuracy: 0.7245\n",
      "Epoch 2/100\n",
      "8000/8000 [==============================] - 1s 79us/sample - loss: 0.4571 - accuracy: 0.7977\n",
      "Epoch 3/100\n",
      "8000/8000 [==============================] - 1s 85us/sample - loss: 0.4339 - accuracy: 0.8059s - loss: 0\n",
      "Epoch 4/100\n",
      "8000/8000 [==============================] - 1s 85us/sample - loss: 0.4243 - accuracy: 0.8167\n",
      "Epoch 5/100\n",
      "8000/8000 [==============================] - 1s 76us/sample - loss: 0.4181 - accuracy: 0.8215\n",
      "Epoch 6/100\n",
      "8000/8000 [==============================] - 1s 77us/sample - loss: 0.4129 - accuracy: 0.8251\n",
      "Epoch 7/100\n",
      "8000/8000 [==============================] - 1s 82us/sample - loss: 0.4082 - accuracy: 0.8267\n",
      "Epoch 8/100\n",
      "8000/8000 [==============================] - 1s 80us/sample - loss: 0.4043 - accuracy: 0.8289\n",
      "Epoch 9/100\n",
      "8000/8000 [==============================] - 1s 81us/sample - loss: 0.4009 - accuracy: 0.8290s - loss: 0.385\n",
      "Epoch 10/100\n",
      "8000/8000 [==============================] - 1s 77us/sample - loss: 0.3974 - accuracy: 0.8300\n",
      "Epoch 11/100\n",
      "8000/8000 [==============================] - 1s 83us/sample - loss: 0.3925 - accuracy: 0.8306\n",
      "Epoch 12/100\n",
      "8000/8000 [==============================] - 1s 76us/sample - loss: 0.3860 - accuracy: 0.8324\n",
      "Epoch 13/100\n",
      "8000/8000 [==============================] - 1s 84us/sample - loss: 0.3755 - accuracy: 0.8439\n",
      "Epoch 14/100\n",
      "8000/8000 [==============================] - 1s 80us/sample - loss: 0.3655 - accuracy: 0.8515\n",
      "Epoch 15/100\n",
      "8000/8000 [==============================] - 1s 75us/sample - loss: 0.3587 - accuracy: 0.8561\n",
      "Epoch 16/100\n",
      "8000/8000 [==============================] - 1s 78us/sample - loss: 0.3531 - accuracy: 0.8577\n",
      "Epoch 17/100\n",
      "8000/8000 [==============================] - 1s 79us/sample - loss: 0.3505 - accuracy: 0.8560\n",
      "Epoch 18/100\n",
      "8000/8000 [==============================] - 1s 81us/sample - loss: 0.3483 - accuracy: 0.8579\n",
      "Epoch 19/100\n",
      "8000/8000 [==============================] - 1s 79us/sample - loss: 0.3469 - accuracy: 0.8576\n",
      "Epoch 20/100\n",
      "8000/8000 [==============================] - 1s 79us/sample - loss: 0.3458 - accuracy: 0.8585\n",
      "Epoch 21/100\n",
      "8000/8000 [==============================] - 1s 82us/sample - loss: 0.3453 - accuracy: 0.8593\n",
      "Epoch 22/100\n",
      "8000/8000 [==============================] - 1s 78us/sample - loss: 0.3447 - accuracy: 0.8584\n",
      "Epoch 23/100\n",
      "8000/8000 [==============================] - 1s 75us/sample - loss: 0.3438 - accuracy: 0.8584\n",
      "Epoch 24/100\n",
      "8000/8000 [==============================] - 1s 80us/sample - loss: 0.3433 - accuracy: 0.8604\n",
      "Epoch 25/100\n",
      "8000/8000 [==============================] - 1s 76us/sample - loss: 0.3428 - accuracy: 0.8585\n",
      "Epoch 26/100\n",
      "8000/8000 [==============================] - 1s 77us/sample - loss: 0.3422 - accuracy: 0.8612\n",
      "Epoch 27/100\n",
      "8000/8000 [==============================] - 1s 82us/sample - loss: 0.3419 - accuracy: 0.8594\n",
      "Epoch 28/100\n",
      "8000/8000 [==============================] - 1s 84us/sample - loss: 0.3411 - accuracy: 0.8591\n",
      "Epoch 29/100\n",
      "8000/8000 [==============================] - 1s 75us/sample - loss: 0.3411 - accuracy: 0.8599\n",
      "Epoch 30/100\n",
      "8000/8000 [==============================] - 1s 80us/sample - loss: 0.3405 - accuracy: 0.8605\n",
      "Epoch 31/100\n",
      "8000/8000 [==============================] - 1s 83us/sample - loss: 0.3404 - accuracy: 0.8600\n",
      "Epoch 32/100\n",
      "8000/8000 [==============================] - 1s 83us/sample - loss: 0.3403 - accuracy: 0.8591\n",
      "Epoch 33/100\n",
      "8000/8000 [==============================] - 1s 76us/sample - loss: 0.3398 - accuracy: 0.8624\n",
      "Epoch 34/100\n",
      "8000/8000 [==============================] - 1s 77us/sample - loss: 0.3395 - accuracy: 0.8624\n",
      "Epoch 35/100\n",
      "8000/8000 [==============================] - 1s 75us/sample - loss: 0.3391 - accuracy: 0.8619\n",
      "Epoch 36/100\n",
      "8000/8000 [==============================] - 1s 78us/sample - loss: 0.3389 - accuracy: 0.8629\n",
      "Epoch 37/100\n",
      "8000/8000 [==============================] - 1s 78us/sample - loss: 0.3386 - accuracy: 0.8629\n",
      "Epoch 38/100\n",
      "8000/8000 [==============================] - 1s 83us/sample - loss: 0.3381 - accuracy: 0.8601\n",
      "Epoch 39/100\n",
      "8000/8000 [==============================] - 1s 81us/sample - loss: 0.3375 - accuracy: 0.8620\n",
      "Epoch 40/100\n",
      "8000/8000 [==============================] - 1s 79us/sample - loss: 0.3376 - accuracy: 0.8615\n",
      "Epoch 41/100\n",
      "8000/8000 [==============================] - 1s 76us/sample - loss: 0.3373 - accuracy: 0.8608\n",
      "Epoch 42/100\n",
      "8000/8000 [==============================] - 1s 77us/sample - loss: 0.3369 - accuracy: 0.8618\n",
      "Epoch 43/100\n",
      "8000/8000 [==============================] - 1s 76us/sample - loss: 0.3363 - accuracy: 0.8636\n",
      "Epoch 44/100\n",
      "8000/8000 [==============================] - 1s 79us/sample - loss: 0.3361 - accuracy: 0.8629\n",
      "Epoch 45/100\n",
      "8000/8000 [==============================] - 1s 77us/sample - loss: 0.3360 - accuracy: 0.8606\n",
      "Epoch 46/100\n",
      "8000/8000 [==============================] - 1s 77us/sample - loss: 0.3358 - accuracy: 0.8612\n",
      "Epoch 47/100\n",
      "8000/8000 [==============================] - 1s 74us/sample - loss: 0.3358 - accuracy: 0.8609\n",
      "Epoch 48/100\n",
      "8000/8000 [==============================] - 1s 77us/sample - loss: 0.3351 - accuracy: 0.8633\n",
      "Epoch 49/100\n",
      "8000/8000 [==============================] - 1s 76us/sample - loss: 0.3352 - accuracy: 0.8614\n",
      "Epoch 50/100\n",
      "8000/8000 [==============================] - 1s 79us/sample - loss: 0.3349 - accuracy: 0.8631\n",
      "Epoch 51/100\n",
      "8000/8000 [==============================] - 1s 81us/sample - loss: 0.3346 - accuracy: 0.8618\n",
      "Epoch 52/100\n",
      "8000/8000 [==============================] - 1s 79us/sample - loss: 0.3345 - accuracy: 0.8624s - loss: 0\n",
      "Epoch 53/100\n",
      "8000/8000 [==============================] - 1s 81us/sample - loss: 0.3344 - accuracy: 0.8626\n",
      "Epoch 54/100\n",
      "8000/8000 [==============================] - 1s 79us/sample - loss: 0.3343 - accuracy: 0.8627\n",
      "Epoch 55/100\n",
      "8000/8000 [==============================] - 1s 72us/sample - loss: 0.3337 - accuracy: 0.8619\n",
      "Epoch 56/100\n",
      "8000/8000 [==============================] - 1s 77us/sample - loss: 0.3340 - accuracy: 0.8620\n",
      "Epoch 57/100\n",
      "8000/8000 [==============================] - 1s 80us/sample - loss: 0.3339 - accuracy: 0.8627\n",
      "Epoch 58/100\n",
      "8000/8000 [==============================] - 1s 76us/sample - loss: 0.3338 - accuracy: 0.8619\n",
      "Epoch 59/100\n",
      "8000/8000 [==============================] - 1s 75us/sample - loss: 0.3336 - accuracy: 0.8637\n",
      "Epoch 60/100\n",
      "8000/8000 [==============================] - 1s 75us/sample - loss: 0.3330 - accuracy: 0.8627\n",
      "Epoch 61/100\n",
      "8000/8000 [==============================] - 1s 78us/sample - loss: 0.3335 - accuracy: 0.8622\n",
      "Epoch 62/100\n",
      "8000/8000 [==============================] - 1s 75us/sample - loss: 0.3330 - accuracy: 0.8637\n",
      "Epoch 63/100\n",
      "8000/8000 [==============================] - 1s 76us/sample - loss: 0.3329 - accuracy: 0.8630\n",
      "Epoch 64/100\n",
      "8000/8000 [==============================] - 1s 77us/sample - loss: 0.3336 - accuracy: 0.8625\n",
      "Epoch 65/100\n",
      "8000/8000 [==============================] - 1s 76us/sample - loss: 0.3330 - accuracy: 0.8633\n",
      "Epoch 66/100\n",
      "8000/8000 [==============================] - 1s 77us/sample - loss: 0.3326 - accuracy: 0.8624\n",
      "Epoch 67/100\n",
      "8000/8000 [==============================] - 1s 80us/sample - loss: 0.3326 - accuracy: 0.8630\n",
      "Epoch 68/100\n",
      "8000/8000 [==============================] - 1s 77us/sample - loss: 0.3329 - accuracy: 0.8626\n",
      "Epoch 69/100\n",
      "8000/8000 [==============================] - 1s 79us/sample - loss: 0.3327 - accuracy: 0.8635\n",
      "Epoch 70/100\n",
      "8000/8000 [==============================] - 1s 78us/sample - loss: 0.3329 - accuracy: 0.8634\n",
      "Epoch 71/100\n",
      "8000/8000 [==============================] - 1s 74us/sample - loss: 0.3332 - accuracy: 0.8635\n",
      "Epoch 72/100\n",
      "8000/8000 [==============================] - 1s 73us/sample - loss: 0.3324 - accuracy: 0.8635\n",
      "Epoch 73/100\n",
      "8000/8000 [==============================] - 1s 76us/sample - loss: 0.3327 - accuracy: 0.8633\n",
      "Epoch 74/100\n",
      "8000/8000 [==============================] - 1s 77us/sample - loss: 0.3326 - accuracy: 0.8645\n",
      "Epoch 75/100\n",
      "8000/8000 [==============================] - 1s 78us/sample - loss: 0.3326 - accuracy: 0.8635\n",
      "Epoch 76/100\n",
      "8000/8000 [==============================] - 1s 76us/sample - loss: 0.3329 - accuracy: 0.8633\n",
      "Epoch 77/100\n"
     ]
    },
    {
     "name": "stdout",
     "output_type": "stream",
     "text": [
      "8000/8000 [==============================] - 1s 76us/sample - loss: 0.3327 - accuracy: 0.8622\n",
      "Epoch 78/100\n",
      "8000/8000 [==============================] - 1s 75us/sample - loss: 0.3321 - accuracy: 0.8639\n",
      "Epoch 79/100\n",
      "8000/8000 [==============================] - 1s 81us/sample - loss: 0.3325 - accuracy: 0.8646\n",
      "Epoch 80/100\n",
      "8000/8000 [==============================] - 1s 79us/sample - loss: 0.3319 - accuracy: 0.8640\n",
      "Epoch 81/100\n",
      "8000/8000 [==============================] - 1s 76us/sample - loss: 0.3323 - accuracy: 0.8612\n",
      "Epoch 82/100\n",
      "8000/8000 [==============================] - 1s 80us/sample - loss: 0.3320 - accuracy: 0.8634\n",
      "Epoch 83/100\n",
      "8000/8000 [==============================] - 1s 74us/sample - loss: 0.3318 - accuracy: 0.8627\n",
      "Epoch 84/100\n",
      "8000/8000 [==============================] - 1s 76us/sample - loss: 0.3318 - accuracy: 0.8626\n",
      "Epoch 85/100\n",
      "8000/8000 [==============================] - 1s 78us/sample - loss: 0.3320 - accuracy: 0.8634\n",
      "Epoch 86/100\n",
      "8000/8000 [==============================] - 1s 77us/sample - loss: 0.3324 - accuracy: 0.8622\n",
      "Epoch 87/100\n",
      "8000/8000 [==============================] - 1s 77us/sample - loss: 0.3321 - accuracy: 0.8634\n",
      "Epoch 88/100\n",
      "8000/8000 [==============================] - 1s 74us/sample - loss: 0.3319 - accuracy: 0.8636\n",
      "Epoch 89/100\n",
      "8000/8000 [==============================] - 1s 76us/sample - loss: 0.3319 - accuracy: 0.8627\n",
      "Epoch 90/100\n",
      "8000/8000 [==============================] - 1s 75us/sample - loss: 0.3319 - accuracy: 0.8636\n",
      "Epoch 91/100\n",
      "8000/8000 [==============================] - 1s 79us/sample - loss: 0.3317 - accuracy: 0.8630\n",
      "Epoch 92/100\n",
      "8000/8000 [==============================] - 1s 81us/sample - loss: 0.3319 - accuracy: 0.8633\n",
      "Epoch 93/100\n",
      "8000/8000 [==============================] - 1s 78us/sample - loss: 0.3316 - accuracy: 0.8629\n",
      "Epoch 94/100\n",
      "8000/8000 [==============================] - 1s 76us/sample - loss: 0.3322 - accuracy: 0.8629\n",
      "Epoch 95/100\n",
      "8000/8000 [==============================] - 1s 76us/sample - loss: 0.3318 - accuracy: 0.8631\n",
      "Epoch 96/100\n",
      "8000/8000 [==============================] - 1s 73us/sample - loss: 0.3317 - accuracy: 0.8626\n",
      "Epoch 97/100\n",
      "8000/8000 [==============================] - 1s 77us/sample - loss: 0.3316 - accuracy: 0.8646\n",
      "Epoch 98/100\n",
      "8000/8000 [==============================] - 1s 73us/sample - loss: 0.3318 - accuracy: 0.8627\n",
      "Epoch 99/100\n",
      "8000/8000 [==============================] - 1s 74us/sample - loss: 0.3311 - accuracy: 0.8637\n",
      "Epoch 100/100\n",
      "8000/8000 [==============================] - 1s 78us/sample - loss: 0.3314 - accuracy: 0.8651\n"
     ]
    },
    {
     "data": {
      "text/plain": [
       "<tensorflow.python.keras.callbacks.History at 0x1311339b3c8>"
      ]
     },
     "execution_count": 18,
     "metadata": {},
     "output_type": "execute_result"
    }
   ],
   "source": [
    "#Training the ANN on the Training set\n",
    "ann.fit(X_train, y_train, batch_size = 32, epochs = 100)"
   ]
  },
  {
   "cell_type": "code",
   "execution_count": 19,
   "metadata": {
    "colab": {
     "base_uri": "https://localhost:8080/",
     "height": 34
    },
    "colab_type": "code",
    "executionInfo": {
     "elapsed": 33990,
     "status": "ok",
     "timestamp": 1590257481594,
     "user": {
      "displayName": "Hadelin de Ponteves",
      "photoUrl": "https://lh3.googleusercontent.com/a-/AOh14GhEuXdT7eQweUmRPW8_laJuPggSK6hfvpl5a6WBaA=s64",
      "userId": "15047218817161520419"
     },
     "user_tz": -240
    },
    "id": "2d8IoCCkeWGL",
    "outputId": "957f3970-e197-4c3b-a150-7f69dc567f5d"
   },
   "outputs": [
    {
     "name": "stdout",
     "output_type": "stream",
     "text": [
      "[[False]]\n"
     ]
    }
   ],
   "source": [
    "#single prediction\n",
    "print(ann.predict(sc.transform([[1, 0, 0, 600, 1, 40, 3, 60000, 2, 1, 1, 50000]])) > 0.5)"
   ]
  },
  {
   "cell_type": "code",
   "execution_count": 20,
   "metadata": {
    "colab": {
     "base_uri": "https://localhost:8080/",
     "height": 137
    },
    "colab_type": "code",
    "executionInfo": {
     "elapsed": 33987,
     "status": "ok",
     "timestamp": 1590257481595,
     "user": {
      "displayName": "Hadelin de Ponteves",
      "photoUrl": "https://lh3.googleusercontent.com/a-/AOh14GhEuXdT7eQweUmRPW8_laJuPggSK6hfvpl5a6WBaA=s64",
      "userId": "15047218817161520419"
     },
     "user_tz": -240
    },
    "id": "nIyEeQdRZwgs",
    "outputId": "82330ba8-9bdc-4fd1-d3cf-b6d78ee7c2a3"
   },
   "outputs": [
    {
     "name": "stdout",
     "output_type": "stream",
     "text": [
      "[[0 0]\n",
      " [0 1]\n",
      " [0 0]\n",
      " ...\n",
      " [0 0]\n",
      " [0 0]\n",
      " [0 0]]\n"
     ]
    }
   ],
   "source": [
    "#predict on test dataset\n",
    "y_pred = ann.predict(X_test)\n",
    "y_pred = (y_pred > 0.5)\n",
    "print(np.concatenate((y_pred.reshape(len(y_pred),1), y_test.reshape(len(y_test),1)),1))"
   ]
  },
  {
   "cell_type": "code",
   "execution_count": 21,
   "metadata": {
    "colab": {
     "base_uri": "https://localhost:8080/",
     "height": 68
    },
    "colab_type": "code",
    "executionInfo": {
     "elapsed": 33981,
     "status": "ok",
     "timestamp": 1590257481595,
     "user": {
      "displayName": "Hadelin de Ponteves",
      "photoUrl": "https://lh3.googleusercontent.com/a-/AOh14GhEuXdT7eQweUmRPW8_laJuPggSK6hfvpl5a6WBaA=s64",
      "userId": "15047218817161520419"
     },
     "user_tz": -240
    },
    "id": "ci6K_r6LaF6P",
    "outputId": "4d854e9e-22d5-432f-f6e5-a102fe3ae0bd"
   },
   "outputs": [
    {
     "name": "stdout",
     "output_type": "stream",
     "text": [
      "[[1507   88]\n",
      " [ 194  211]]\n"
     ]
    },
    {
     "data": {
      "text/plain": [
       "0.859"
      ]
     },
     "execution_count": 21,
     "metadata": {},
     "output_type": "execute_result"
    }
   ],
   "source": [
    "#making confusion metrics(useful for classification)\n",
    "from sklearn.metrics import confusion_matrix, accuracy_score\n",
    "cm = confusion_matrix(y_test, y_pred)\n",
    "print(cm)\n",
    "accuracy_score(y_test, y_pred)"
   ]
  },
  {
   "cell_type": "code",
   "execution_count": null,
   "metadata": {},
   "outputs": [],
   "source": []
  }
 ],
 "metadata": {
  "colab": {
   "authorship_tag": "ABX9TyMeRFWFoGrdaL5S3dx5MWmb",
   "collapsed_sections": [],
   "name": "artificial_neural_network.ipynb",
   "provenance": [],
   "toc_visible": true
  },
  "kernelspec": {
   "display_name": "Python 3",
   "language": "python",
   "name": "python3"
  },
  "language_info": {
   "codemirror_mode": {
    "name": "ipython",
    "version": 3
   },
   "file_extension": ".py",
   "mimetype": "text/x-python",
   "name": "python",
   "nbconvert_exporter": "python",
   "pygments_lexer": "ipython3",
   "version": "3.7.3"
  }
 },
 "nbformat": 4,
 "nbformat_minor": 1
}
